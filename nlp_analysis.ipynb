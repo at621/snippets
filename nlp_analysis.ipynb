{
 "cells": [
  {
   "cell_type": "code",
   "execution_count": 1,
   "id": "33dfee7f-d2ff-4f6e-bad7-931a5962d3aa",
   "metadata": {},
   "outputs": [
    {
     "data": {
      "image/png": "[encoded data removed]",
      "text/plain": [
       "<Figure size 720x504 with 2 Axes>"
      ]
     },
     "metadata": {
      "needs_background": "light"
     },
     "output_type": "display_data"
    }
   ],
   "source": [
    "import numpy as np\n",
    "from sklearn.metrics import confusion_matrix\n",
    "import matplotlib.pyplot as plt\n",
    "import seaborn as sns\n",
    "\n",
    "# Sample class names\n",
    "classes = ['Cat', 'Dog', 'Rabbit', 'Bird', 'Fish']\n",
    "\n",
    "# Generating mock true labels and predictions\n",
    "np.random.seed(0) # For reproducibility\n",
    "y_test = np.random.choice(classes, 100, replace=True) # True labels\n",
    "predictions = np.random.choice(classes, 100, replace=True) # Predicted labels\n",
    "\n",
    "# Generating the confusion matrix\n",
    "cm = confusion_matrix(y_test, predictions, labels=classes)\n",
    "\n",
    "# Plotting the confusion matrix\n",
    "plt.figure(figsize=(10, 7))\n",
    "sns.heatmap(cm, annot=True, fmt=\"d\", cmap=\"Blues\", xticklabels=classes, yticklabels=classes)\n",
    "plt.xlabel('Predicted')\n",
    "plt.ylabel('True')\n",
    "plt.title('Confusion Matrix')\n",
    "plt.show()"
   ]
  },
  {
   "cell_type": "code",
   "execution_count": 2,
   "id": "b16ae5b5-0928-441f-b8ec-c941f2c82709",
   "metadata": {},
   "outputs": [
    {
     "name": "stdout",
     "output_type": "stream",
     "text": [
      "I need to ask about extending the period of my loan repayment.\n",
      "Could the credit duration be lengthened due to unforeseen circumstances?\n",
      "Is there a possibility for my money borrowing term to be prolonged?\n",
      "We are considering applying for additional funding to extend our credit line.\n",
      "I'm facing financial difficulties and need to extend the credit agreement term.\n",
      "I need a deferment for the money I owe; is that something we can discuss?\n"
     ]
    }
   ],
   "source": [
    "import spacy\n",
    "\n",
    "nlp = spacy.load(\"en_core_web_sm\")\n",
    "\n",
    "sentences = [\n",
    "    \"I need to ask about extending the period of my loan repayment.\",\n",
    "    \"Could the credit duration be lengthened due to unforeseen circumstances?\",\n",
    "    \"Is there a possibility for my money borrowing term to be prolonged?\",\n",
    "    \"I'm inquiring about the possibility of having more time to pay back my loan.\",\n",
    "    \"We are considering applying for additional funding to extend our credit line.\",\n",
    "    \"Would it be feasible to delay the repayment schedule for my current loan?\",\n",
    "    \"I'm facing financial difficulties and need to extend the credit agreement term.\",\n",
    "    \"How can I go about securing a longer period for my money lending contract?\",\n",
    "    \"The bank offered a possibility to expand the duration of my loan repayment plan.\",\n",
    "    \"I need a deferment for the money I owe; is that something we can discuss?\"\n",
    "]\n",
    "\n",
    "# Define a function to check if any lemmas from both lists appear in the same sentence\n",
    "def lemma_in_same_sentence(doc, lemma1_list, lemma2_list):\n",
    "    sentence_lemmas = [token.lemma_ for token in doc]\n",
    "    return any(lemma1 in sentence_lemmas for lemma1 in lemma1_list) and any(lemma2 in sentence_lemmas for lemma2 in lemma2_list)\n",
    "\n",
    "# Define your alternatives for lemma1 and lemma2\n",
    "lemma1_alternatives = ['loan', 'credit', 'money']\n",
    "lemma2_alternatives = ['extend', 'lengthen', 'prolong', 'deferment']\n",
    "\n",
    "# Analyze sentences\n",
    "matches = []\n",
    "for sentence in sentences:\n",
    "    doc = nlp(sentence)\n",
    "    if lemma_in_same_sentence(doc, lemma1_alternatives, lemma2_alternatives):\n",
    "        matches.append(sentence)\n",
    "\n",
    "# Print out matches\n",
    "for match in matches:\n",
    "    print(match)"
   ]
  },
  {
   "cell_type": "code",
   "execution_count": null,
   "id": "530a25f5-c3ca-49b9-aed4-09a9e293cb5d",
   "metadata": {},
   "outputs": [],
   "source": []
  }
 ],
 "metadata": {
  "kernelspec": {
   "display_name": "Python 3 (ipykernel)",
   "language": "python",
   "name": "python3"
  },
  "language_info": {
   "codemirror_mode": {
    "name": "ipython",
    "version": 3
   },
   "file_extension": ".py",
   "mimetype": "text/x-python",
   "name": "python",
   "nbconvert_exporter": "python",
   "pygments_lexer": "ipython3",
   "version": "3.9.13"
  }
 },
 "nbformat": 4,
 "nbformat_minor": 5
}
