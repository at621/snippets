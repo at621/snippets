{
 "cells": [
  {
   "cell_type": "code",
   "execution_count": 1,
   "id": "5eb4dcd3-3a93-4384-9c84-2e767007a8ce",
   "metadata": {},
   "outputs": [],
   "source": [
    "import openai\n",
    "import json"
   ]
  },
  {
   "cell_type": "code",
   "execution_count": 2,
   "id": "402d80a0-6027-40e9-946e-908fdec8d2b5",
   "metadata": {},
   "outputs": [],
   "source": [
    "# Add relevant functions\n",
    "def get_bank_names(name):\n",
    "    \"\"\"Return given bank names\"\"\"\n",
    "\n",
    "    result = {\n",
    "        \"name\": name,\n",
    "    }\n",
    "    return json.dumps(result)\n",
    "\n",
    "    \n",
    "def find_period(start_year, end_year):\n",
    "    \"\"\"Extract a period from a sentence\"\"\"\n",
    "\n",
    "    result = {\n",
    "        \"start_year\": start_year,\n",
    "        \"end_year\": end_year,\n",
    "    }\n",
    "    return json.dumps(result)\n",
    "\n",
    "\n",
    "def get_conversation_category(risk_category):\n",
    "    \"\"\"Return a risk category: PD, LGD, EAD, RWA\"\"\"\n",
    "\n",
    "    result = {\n",
    "        \"name\": risk_category,\n",
    "    }\n",
    "    return json.dumps(result)\n",
    "    \n",
    "\n",
    "def run_conversation(user_input, call_type=\"auto\"):\n",
    "    # Step 1: send the conversation and available functions to GPT\n",
    "    messages = [{\"role\": \"user\", \"content\": user_input}]\n",
    "    functions = [\n",
    "        {\n",
    "            \"name\": \"get_bank_names\",\n",
    "            \"description\": \"Extract bank name from the sentence\",\n",
    "            \"parameters\": {\n",
    "                \"type\": \"object\",\n",
    "                \"properties\": {\n",
    "                    \"name\": {\n",
    "                        \"type\": \"string\",\n",
    "                        \"description\": \"something like Deutsche bank, Goldman Sachs\",\n",
    "                    },\n",
    "                },\n",
    "                \"required\": [\"name\"],\n",
    "            },\n",
    "        },\n",
    "\n",
    "        {\n",
    "            \"name\": \"find_period\",\n",
    "            \"description\": \"Extract period (start year and end year) from the sentence\",\n",
    "            \"parameters\": {\n",
    "                \"type\": \"object\",\n",
    "                \"properties\": {\n",
    "                    \"start_year\": {\n",
    "                        \"type\": \"string\",\n",
    "                        \"description\": \"Start year of the period\",\n",
    "                    },\n",
    "\n",
    "                    \"end_year\": {\n",
    "                        \"type\": \"string\",\n",
    "                        \"description\": \"End year of the period\",\n",
    "                    },\n",
    "                },\n",
    "                \"required\": [\"start_year\", \"end_year\"],\n",
    "            },\n",
    "        },\n",
    "\n",
    "        {\n",
    "            \"name\": \"get_conversation_category\",\n",
    "            \"description\": \"Return one of the risk categories: PD, LGD, EAD, RWA\",\n",
    "            \"parameters\": {\n",
    "                \"type\": \"object\",\n",
    "                \"properties\": {\n",
    "                    \"risk_category\": {\n",
    "                        \"type\": \"string\",\n",
    "                        \"description\": \"Only one of the option is permitted: PD, LGD, EAD, RWA\",\n",
    "                    },\n",
    "                },\n",
    "                \"required\": [\"risk_category\"],\n",
    "            },\n",
    "        }\n",
    "        \n",
    "    ]\n",
    "    response = openai.ChatCompletion.create(\n",
    "        model=\"gpt-3.5-turbo-0613\",\n",
    "        messages=messages,\n",
    "        functions=functions,\n",
    "        function_call=call_type,\n",
    "    )\n",
    "    response_message = response[\"choices\"][0][\"message\"]\n",
    "    print(f'Answer returned by functions: {response[\"choices\"][0][\"message\"][\"function_call\"][\"arguments\"]}\\n')\n",
    "\n",
    "    # Step 2: check if GPT wanted to call a function\n",
    "    if response_message.get(\"function_call\"):\n",
    "        # Step 3: call the function\n",
    "        # Note: the JSON response may not always be valid; be sure to handle errors\n",
    "        available_functions = {\n",
    "            \"get_bank_names\": get_bank_names,\n",
    "            \"find_period\": find_period,\n",
    "            \"get_conversation_category\": get_conversation_category,\n",
    "        }\n",
    "        \n",
    "        function_name = response_message[\"function_call\"][\"name\"]\n",
    "        fuction_to_call = available_functions[function_name]\n",
    "        function_args = json.loads(response_message[\"function_call\"][\"arguments\"])\n",
    "        function_response = fuction_to_call(**function_args)\n",
    "\n",
    "        # Step 4: send the info on the function call and function response to GPT\n",
    "        messages.append(response_message)  # extend conversation with assistant's reply\n",
    "        messages.append(\n",
    "            {\n",
    "                \"role\": \"function\",\n",
    "                \"name\": function_name,\n",
    "                \"content\": function_response,\n",
    "            }\n",
    "        )  # extend conversation with function response\n",
    "        second_response = openai.ChatCompletion.create(\n",
    "            model=\"gpt-3.5-turbo-0613\",\n",
    "            messages=messages,\n",
    "        )  # get a new response from GPT where it can see the function response\n",
    "        return second_response"
   ]
  },
  {
   "cell_type": "code",
   "execution_count": 3,
   "id": "cdc75da2-8ef8-400f-8bdc-3e70b14f4f30",
   "metadata": {},
   "outputs": [
    {
     "name": "stdout",
     "output_type": "stream",
     "text": [
      "Answer returned by functions: {\n",
      "  \"start_year\": \"1998\",\n",
      "  \"end_year\": \"2010\"\n",
      "}/n\n",
      "Final answer: The period you specified, from 1998 to 2010, lasted for 12 years.\n",
      "\n"
     ]
    }
   ],
   "source": [
    "user_input = \"the period started in 1998 and ended in 2010.\"\n",
    "out = run_conversation(user_input)\n",
    "print(f\"Final answer: {out['choices'][0]['message']['content']}\\n\")"
   ]
  },
  {
   "cell_type": "code",
   "execution_count": 4,
   "id": "a6b0a2bb-5872-4950-947e-83c0ff7195af",
   "metadata": {},
   "outputs": [
    {
     "name": "stdout",
     "output_type": "stream",
     "text": [
      "Answer returned by functions: {\n",
      "  \"name\": \"Deutsche Bank and Swedbank\"\n",
      "}/n\n",
      "Final answer: The bank names extracted from the sentence \"Deutsche Bank and Swedbank\" are \"Deutsche Bank\" and \"Swedbank\".\n",
      "\n"
     ]
    }
   ],
   "source": [
    "user_input = \"i want to extract bank names from the following sentence: Deutsche Bank and Swedbank?\"\n",
    "out = run_conversation(user_input)\n",
    "print(f\"Final answer: {out['choices'][0]['message']['content']}\\n\")"
   ]
  },
  {
   "cell_type": "code",
   "execution_count": 5,
   "id": "7d1ff69c-4697-4fb6-ad86-a6c15940639a",
   "metadata": {},
   "outputs": [
    {
     "name": "stdout",
     "output_type": "stream",
     "text": [
      "Answer returned by functions: {\n",
      "  \"risk_category\": \"LGD\"\n",
      "}/n\n",
      "Final answer: Sure! LGD stands for Loss Given Default, and it is a measure used in credit risk modeling to assess the potential loss that may occur if a borrower defaults on their obligations. LGD modeling is the process of estimating and predicting the percentage of exposure that will be lost in the event of default.\n",
      "\n",
      "LGD modeling involves analyzing various factors that contribute to the actual recovery rate in the event of default. These factors can include collateral value, seniority of the debt, loan characteristics, economic conditions, and recovery processes.\n",
      "\n",
      "The purpose of LGD modeling is to aid financial institutions and lenders in quantifying and managing credit risk. By understanding the potential loss that may be incurred, lenders can set appropriate pricing, make informed lending decisions, and allocate capital effectively.\n",
      "\n",
      "There are various methods used in LGD modeling, such as statistical modeling, historical data analysis, and expert judgment. These methods help in estimating the potential loss based on historical data, macroeconomic factors, and industry-specific knowledge.\n",
      "\n",
      "The accuracy of LGD models is important as it directly impacts the calculation of credit risk metrics like Economic Capital and Expected Loss. Therefore, validation and ongoing monitoring of LGD models are crucial to ensure their reliability and relevance.\n",
      "\n",
      "LGD modeling is a significant aspect of credit risk management and plays a crucial role in assessing and pricing credit risk. It helps lenders and financial institutions to understand the potential loss associated with lending activities and make informed decisions to mitigate risks.\n",
      "\n"
     ]
    }
   ],
   "source": [
    "user_input = \"I would like to discuss LGD modelling\"\n",
    "out = run_conversation(user_input, {\"name\": \"get_conversation_category\"})\n",
    "print(f\"Final answer: {out['choices'][0]['message']['content']}\\n\")"
   ]
  }
 ],
 "metadata": {
  "kernelspec": {
   "display_name": "Python 3 (ipykernel)",
   "language": "python",
   "name": "python3"
  },
  "language_info": {
   "codemirror_mode": {
    "name": "ipython",
    "version": 3
   },
   "file_extension": ".py",
   "mimetype": "text/x-python",
   "name": "python",
   "nbconvert_exporter": "python",
   "pygments_lexer": "ipython3",
   "version": "3.9.13"
  }
 },
 "nbformat": 4,
 "nbformat_minor": 5
}
