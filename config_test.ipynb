{
 "cells": [
  {
   "cell_type": "code",
   "execution_count": 1,
   "id": "86d5bfbe-ca7c-4f16-b403-4abddff13f20",
   "metadata": {},
   "outputs": [
    {
     "data": {
      "text/plain": [
       "['config.ini']"
      ]
     },
     "execution_count": 1,
     "metadata": {},
     "output_type": "execute_result"
    }
   ],
   "source": [
    "import configparser\n",
    "\n",
    "config = configparser.ConfigParser()\n",
    "config.read('config.ini')"
   ]
  },
  {
   "cell_type": "markdown",
   "id": "ca68c93b-8654-44f6-910d-d966bd609cc6",
   "metadata": {},
   "source": [
    "### ini contents\n",
    "[database] \\\n",
    "host = localhost \\\n",
    "port = 5432 \\\n",
    "username = user \\\n",
    "password = password123 \\\n",
    "database = mydb\n",
    "\n",
    "[logging] \\\n",
    "level = INFO"
   ]
  },
  {
   "cell_type": "code",
   "execution_count": 2,
   "id": "4ce26657-488b-4228-a74f-8e09d53507c5",
   "metadata": {},
   "outputs": [
    {
     "name": "stdout",
     "output_type": "stream",
     "text": [
      "Database host: localhost\n",
      "Logging level: INFO\n"
     ]
    }
   ],
   "source": [
    "# Get the database settings\n",
    "database_host = config.get('database', 'host')\n",
    "\n",
    "# Get the logging settings\n",
    "logging_level = config.get('logging', 'level')\n",
    "\n",
    "# Print the settings\n",
    "print(f\"Database host: {database_host}\")\n",
    "print(f\"Logging level: {logging_level}\")"
   ]
  },
  {
   "cell_type": "code",
   "execution_count": 3,
   "id": "cf72db22-1515-4d2b-9150-b2b3d9817cc8",
   "metadata": {},
   "outputs": [
    {
     "name": "stdout",
     "output_type": "stream",
     "text": [
      "['host', 'port', 'username', 'password', 'database']\n"
     ]
    }
   ],
   "source": [
    "# Get the database section options as a list\n",
    "database_options = config.options('database')\n",
    "print(database_options)"
   ]
  },
  {
   "cell_type": "code",
   "execution_count": 4,
   "id": "9b422a2a-2264-4eb8-b475-a10ef3d42187",
   "metadata": {},
   "outputs": [
    {
     "name": "stdout",
     "output_type": "stream",
     "text": [
      "['localhost', '5432', 'user', 'password123', 'mydb']\n"
     ]
    }
   ],
   "source": [
    "# Get the database section items as a list of tuples, and extract the values\n",
    "database_values = [value for option, value in config.items('database')]\n",
    "print(database_values)"
   ]
  }
 ],
 "metadata": {
  "kernelspec": {
   "display_name": "Python 3 (ipykernel)",
   "language": "python",
   "name": "python3"
  },
  "language_info": {
   "codemirror_mode": {
    "name": "ipython",
    "version": 3
   },
   "file_extension": ".py",
   "mimetype": "text/x-python",
   "name": "python",
   "nbconvert_exporter": "python",
   "pygments_lexer": "ipython3",
   "version": "3.9.7"
  }
 },
 "nbformat": 4,
 "nbformat_minor": 5
}
