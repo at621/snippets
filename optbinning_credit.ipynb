{
  "nbformat": 4,
  "nbformat_minor": 0,
  "metadata": {
    "colab": {
      "provenance": []
    },
    "kernelspec": {
      "name": "python3",
      "display_name": "Python 3"
    },
    "language_info": {
      "name": "python"
    }
  },
  "cells": [
    {
      "cell_type": "code",
      "execution_count": 36,
      "metadata": {
        "colab": {
          "base_uri": "https://localhost:8080/"
        },
        "id": "PTnLXf3SdITv",
        "outputId": "d24db6e4-23f1-499f-8772-99385c9f321d"
      },
      "outputs": [
        {
          "output_type": "stream",
          "name": "stdout",
          "text": [
            "Looking in indexes: https://pypi.org/simple, https://us-python.pkg.dev/colab-wheels/public/simple/\n",
            "Requirement already satisfied: pyspark in /usr/local/lib/python3.8/dist-packages (3.3.2)\n",
            "Requirement already satisfied: py4j==0.10.9.5 in /usr/local/lib/python3.8/dist-packages (from pyspark) (0.10.9.5)\n"
          ]
        }
      ],
      "source": [
        "!pip install pyspark"
      ]
    },
    {
      "cell_type": "code",
      "source": [
        "!pip install optbinning[distributed]"
      ],
      "metadata": {
        "colab": {
          "base_uri": "https://localhost:8080/"
        },
        "id": "kWgnkWRFdSv9",
        "outputId": "4bc3e21b-9fd2-4438-baa1-6da352eafe55"
      },
      "execution_count": 37,
      "outputs": [
        {
          "output_type": "stream",
          "name": "stdout",
          "text": [
            "Looking in indexes: https://pypi.org/simple, https://us-python.pkg.dev/colab-wheels/public/simple/\n",
            "Requirement already satisfied: optbinning[distributed] in /usr/local/lib/python3.8/dist-packages (0.17.3)\n",
            "Requirement already satisfied: scikit-learn>=1.0.2 in /usr/local/lib/python3.8/dist-packages (from optbinning[distributed]) (1.0.2)\n",
            "Requirement already satisfied: ortools>=9.4 in /usr/local/lib/python3.8/dist-packages (from optbinning[distributed]) (9.5.2237)\n",
            "Requirement already satisfied: scipy>=1.6.0 in /usr/local/lib/python3.8/dist-packages (from optbinning[distributed]) (1.7.3)\n",
            "Requirement already satisfied: pandas in /usr/local/lib/python3.8/dist-packages (from optbinning[distributed]) (1.3.5)\n",
            "Requirement already satisfied: ropwr>=1.0.0 in /usr/local/lib/python3.8/dist-packages (from optbinning[distributed]) (1.0.0)\n",
            "Requirement already satisfied: matplotlib in /usr/local/lib/python3.8/dist-packages (from optbinning[distributed]) (3.2.2)\n",
            "Requirement already satisfied: numpy>=1.16.1 in /usr/local/lib/python3.8/dist-packages (from optbinning[distributed]) (1.21.6)\n",
            "Collecting pympler\n",
            "  Downloading Pympler-1.0.1-py3-none-any.whl (164 kB)\n",
            "\u001b[2K     \u001b[90m━━━━━━━━━━━━━━━━━━━━━━━━━━━━━━━━━━━━━━━\u001b[0m \u001b[32m164.8/164.8 KB\u001b[0m \u001b[31m4.0 MB/s\u001b[0m eta \u001b[36m0:00:00\u001b[0m\n",
            "\u001b[?25hCollecting tdigest\n",
            "  Downloading tdigest-0.5.2.2-py3-none-any.whl (9.4 kB)\n",
            "Requirement already satisfied: absl-py>=0.13 in /usr/local/lib/python3.8/dist-packages (from ortools>=9.4->optbinning[distributed]) (1.4.0)\n",
            "Requirement already satisfied: protobuf>=4.21.5 in /usr/local/lib/python3.8/dist-packages (from ortools>=9.4->optbinning[distributed]) (4.22.0)\n",
            "Requirement already satisfied: cvxpy>=1.1.14 in /usr/local/lib/python3.8/dist-packages (from ropwr>=1.0.0->optbinning[distributed]) (1.2.3)\n",
            "Requirement already satisfied: threadpoolctl>=2.0.0 in /usr/local/lib/python3.8/dist-packages (from scikit-learn>=1.0.2->optbinning[distributed]) (3.1.0)\n",
            "Requirement already satisfied: joblib>=0.11 in /usr/local/lib/python3.8/dist-packages (from scikit-learn>=1.0.2->optbinning[distributed]) (1.2.0)\n",
            "Requirement already satisfied: cycler>=0.10 in /usr/local/lib/python3.8/dist-packages (from matplotlib->optbinning[distributed]) (0.11.0)\n",
            "Requirement already satisfied: python-dateutil>=2.1 in /usr/local/lib/python3.8/dist-packages (from matplotlib->optbinning[distributed]) (2.8.2)\n",
            "Requirement already satisfied: kiwisolver>=1.0.1 in /usr/local/lib/python3.8/dist-packages (from matplotlib->optbinning[distributed]) (1.4.4)\n",
            "Requirement already satisfied: pyparsing!=2.0.4,!=2.1.2,!=2.1.6,>=2.0.1 in /usr/local/lib/python3.8/dist-packages (from matplotlib->optbinning[distributed]) (3.0.9)\n",
            "Requirement already satisfied: pytz>=2017.3 in /usr/local/lib/python3.8/dist-packages (from pandas->optbinning[distributed]) (2022.7.1)\n",
            "Collecting pyudorandom\n",
            "  Downloading pyudorandom-1.0.0.tar.gz (1.6 kB)\n",
            "  Preparing metadata (setup.py) ... \u001b[?25l\u001b[?25hdone\n",
            "Collecting accumulation-tree\n",
            "  Downloading accumulation_tree-0.6.2.tar.gz (12 kB)\n",
            "  Preparing metadata (setup.py) ... \u001b[?25l\u001b[?25hdone\n",
            "Requirement already satisfied: osqp>=0.4.1 in /usr/local/lib/python3.8/dist-packages (from cvxpy>=1.1.14->ropwr>=1.0.0->optbinning[distributed]) (0.6.2.post0)\n",
            "Requirement already satisfied: scs>=1.1.6 in /usr/local/lib/python3.8/dist-packages (from cvxpy>=1.1.14->ropwr>=1.0.0->optbinning[distributed]) (3.2.2)\n",
            "Requirement already satisfied: ecos>=2 in /usr/local/lib/python3.8/dist-packages (from cvxpy>=1.1.14->ropwr>=1.0.0->optbinning[distributed]) (2.0.12)\n",
            "Requirement already satisfied: setuptools<=64.0.2 in /usr/local/lib/python3.8/dist-packages (from cvxpy>=1.1.14->ropwr>=1.0.0->optbinning[distributed]) (57.4.0)\n",
            "Requirement already satisfied: six>=1.5 in /usr/local/lib/python3.8/dist-packages (from python-dateutil>=2.1->matplotlib->optbinning[distributed]) (1.15.0)\n",
            "Requirement already satisfied: qdldl in /usr/local/lib/python3.8/dist-packages (from osqp>=0.4.1->cvxpy>=1.1.14->ropwr>=1.0.0->optbinning[distributed]) (0.1.5.post3)\n",
            "Building wheels for collected packages: accumulation-tree, pyudorandom\n",
            "  Building wheel for accumulation-tree (setup.py) ... \u001b[?25l\u001b[?25hdone\n",
            "  Created wheel for accumulation-tree: filename=accumulation_tree-0.6.2-cp38-cp38-linux_x86_64.whl size=398567 sha256=1b1e3ea83351102d57fa71917242ebf9743b5f7cb9efe3d49c842a41d5a25399\n",
            "  Stored in directory: /root/.cache/pip/wheels/c9/39/d2/c9a954f11bc1b2f95258a48cbd19b0767fe7d3bb061df95a5f\n",
            "  Building wheel for pyudorandom (setup.py) ... \u001b[?25l\u001b[?25hdone\n",
            "  Created wheel for pyudorandom: filename=pyudorandom-1.0.0-py3-none-any.whl size=2223 sha256=9b119bbf6441f1b69fc870e1aa32714444a6f976ebcc83afe4a5aa889dfbeb85\n",
            "  Stored in directory: /root/.cache/pip/wheels/a0/6f/f6/c041bdb344311e31ea28717a6b0ae6106f951f8470329c2cb6\n",
            "Successfully built accumulation-tree pyudorandom\n",
            "Installing collected packages: pyudorandom, accumulation-tree, tdigest, pympler\n",
            "Successfully installed accumulation-tree-0.6.2 pympler-1.0.1 pyudorandom-1.0.0 tdigest-0.5.2.2\n"
          ]
        }
      ]
    },
    {
      "cell_type": "code",
      "source": [
        "!pip install wget"
      ],
      "metadata": {
        "colab": {
          "base_uri": "https://localhost:8080/"
        },
        "id": "tI76LuAUee-S",
        "outputId": "8952eea8-18cc-4b40-a49d-4701613b5f42"
      },
      "execution_count": 38,
      "outputs": [
        {
          "output_type": "stream",
          "name": "stdout",
          "text": [
            "Looking in indexes: https://pypi.org/simple, https://us-python.pkg.dev/colab-wheels/public/simple/\n",
            "Requirement already satisfied: wget in /usr/local/lib/python3.8/dist-packages (3.2)\n"
          ]
        }
      ]
    },
    {
      "cell_type": "code",
      "source": [
        "from pyspark.sql import SparkSession\n",
        "import os\n",
        "from wget import download\n",
        "import pandas as pd\n",
        "from optbinning import OptimalBinningSketch"
      ],
      "metadata": {
        "id": "_qcXzpp6dSt1"
      },
      "execution_count": 39,
      "outputs": []
    },
    {
      "cell_type": "code",
      "source": [
        "spark = SparkSession.builder.getOrCreate()\n",
        "\n",
        "df_data = spark.read\\\n",
        "  .format('org.apache.spark.sql.execution.datasources.csv.CSVFileFormat')\\\n",
        "  .option('header', 'true')\\\n",
        "  .option('inferSchema', 'true')\\\n",
        "  .load('CreditRiskDataColab.csv')\n",
        "\n",
        "n_partitions = 4\n",
        "df = df_data.repartition(n_partitions)\n",
        "\n",
        "df_data.printSchema()"
      ],
      "metadata": {
        "colab": {
          "base_uri": "https://localhost:8080/"
        },
        "id": "Rharf5fIdSos",
        "outputId": "1c170c9a-d338-4647-a5ab-ac62774ab955"
      },
      "execution_count": 40,
      "outputs": [
        {
          "output_type": "stream",
          "name": "stdout",
          "text": [
            "root\n",
            " |-- GoodCredit: integer (nullable = true)\n",
            " |-- checkingstatus: string (nullable = true)\n",
            " |-- duration: integer (nullable = true)\n",
            " |-- history: string (nullable = true)\n",
            " |-- purpose: string (nullable = true)\n",
            " |-- amount: integer (nullable = true)\n",
            " |-- savings: string (nullable = true)\n",
            " |-- employ: string (nullable = true)\n",
            " |-- installment: integer (nullable = true)\n",
            " |-- status: string (nullable = true)\n",
            " |-- others: string (nullable = true)\n",
            " |-- residence: integer (nullable = true)\n",
            " |-- property: string (nullable = true)\n",
            " |-- age: integer (nullable = true)\n",
            " |-- otherplans: string (nullable = true)\n",
            " |-- housing: string (nullable = true)\n",
            " |-- cards: integer (nullable = true)\n",
            " |-- job: string (nullable = true)\n",
            " |-- liable: integer (nullable = true)\n",
            " |-- tele: string (nullable = true)\n",
            " |-- foreign: string (nullable = true)\n",
            "\n"
          ]
        }
      ]
    },
    {
      "cell_type": "code",
      "source": [
        "# Show stats\n",
        "print(\"Number of records: \" + str(df_data.count()))\n",
        "df_data.show(1)"
      ],
      "metadata": {
        "colab": {
          "base_uri": "https://localhost:8080/"
        },
        "id": "PpB0q9f7dSj1",
        "outputId": "78b45264-86bf-4fae-e193-e4468cdb842c"
      },
      "execution_count": 41,
      "outputs": [
        {
          "output_type": "stream",
          "name": "stdout",
          "text": [
            "Number of records: 1000\n",
            "+----------+--------------+--------+-------+-------+------+-------+------+-----------+------+------+---------+--------+---+----------+-------+-----+----+------+----+-------+\n",
            "|GoodCredit|checkingstatus|duration|history|purpose|amount|savings|employ|installment|status|others|residence|property|age|otherplans|housing|cards| job|liable|tele|foreign|\n",
            "+----------+--------------+--------+-------+-------+------+-------+------+-----------+------+------+---------+--------+---+----------+-------+-----+----+------+----+-------+\n",
            "|         0|           A11|       6|    A34|    A43|  1169|    A65|   A75|          4|   A93|  A101|        4|    A121| 67|      A143|   A152|    2|A173|     1|A192|   A201|\n",
            "+----------+--------------+--------+-------+-------+------+-------+------+-----------+------+------+---------+--------+---+----------+-------+-----+----+------+----+-------+\n",
            "only showing top 1 row\n",
            "\n"
          ]
        }
      ]
    },
    {
      "cell_type": "code",
      "source": [
        "variable = \"Age\"\n",
        "target = \"GoodCredit\"\n",
        "columns = [variable, target]\n",
        "\n",
        "\n",
        "def add(partition):\n",
        "    df_pandas = pd.DataFrame.from_records(partition, columns=columns)\n",
        "    x = df_pandas[variable]\n",
        "    y = df_pandas[target]\n",
        "    optbsketch = OptimalBinningSketch(eps=0.001, monotonic_trend='descending')\n",
        "    optbsketch.add(x, y)\n",
        "\n",
        "    return [optbsketch]\n",
        "\n",
        "def merge(optbsketch, other_optbsketch):\n",
        "    optbsketch.merge(other_optbsketch)\n",
        "\n",
        "    return optbsketch\n",
        "\n",
        "optbsketch = df.select(columns).rdd.mapPartitions(lambda partition: add(partition)\n",
        "                                                 ).treeReduce(merge)"
      ],
      "metadata": {
        "id": "S-jDztIfeYWe"
      },
      "execution_count": 52,
      "outputs": []
    },
    {
      "cell_type": "code",
      "source": [
        "optbsketch.solve()"
      ],
      "metadata": {
        "colab": {
          "base_uri": "https://localhost:8080/"
        },
        "id": "aHfZcb5PeYUL",
        "outputId": "60fbe167-2c8f-4efa-e794-705db1f1fcca"
      },
      "execution_count": 53,
      "outputs": [
        {
          "output_type": "execute_result",
          "data": {
            "text/plain": [
              "OptimalBinningSketch(eps=0.001, monotonic_trend='descending')"
            ]
          },
          "metadata": {},
          "execution_count": 53
        }
      ]
    },
    {
      "cell_type": "code",
      "source": [
        "optbsketch.binning_table.build()"
      ],
      "metadata": {
        "colab": {
          "base_uri": "https://localhost:8080/",
          "height": 300
        },
        "id": "xrQ4xVcCfrCY",
        "outputId": "b4b96571-3921-45f3-f1e5-448d89b9f737"
      },
      "execution_count": 54,
      "outputs": [
        {
          "output_type": "execute_result",
          "data": {
            "text/plain": [
              "                   Bin  Count  Count (%)  Non-event  Event  Event rate  \\\n",
              "0        (-inf, 25.00)    190      0.190        110     80    0.421053   \n",
              "1       [25.00, 29.00)    181      0.181        124     57    0.314917   \n",
              "2       [29.00, 33.00)    145      0.145        101     44    0.303448   \n",
              "3       [33.00, 60.00)    439      0.439        330    109    0.248292   \n",
              "4         [60.00, inf)     45      0.045         35     10    0.222222   \n",
              "5              Special      0      0.000          0      0    0.000000   \n",
              "6              Missing      0      0.000          0      0    0.000000   \n",
              "Totals                   1000      1.000        700    300    0.300000   \n",
              "\n",
              "             WoE        IV        JS  \n",
              "0      -0.528844  0.057921  0.007157  \n",
              "1      -0.070068  0.000901  0.000113  \n",
              "2      -0.016367  0.000039  0.000005  \n",
              "3       0.260447  0.028153  0.003509  \n",
              "4       0.405465  0.006758  0.000839  \n",
              "5            0.0  0.000000  0.000000  \n",
              "6            0.0  0.000000  0.000000  \n",
              "Totals            0.093772  0.011623  "
            ],
            "text/html": [
              "\n",
              "  <div id=\"df-aa489b4f-6d41-442a-84ef-f3b01c2e8d3c\">\n",
              "    <div class=\"colab-df-container\">\n",
              "      <div>\n",
              "<style scoped>\n",
              "    .dataframe tbody tr th:only-of-type {\n",
              "        vertical-align: middle;\n",
              "    }\n",
              "\n",
              "    .dataframe tbody tr th {\n",
              "        vertical-align: top;\n",
              "    }\n",
              "\n",
              "    .dataframe thead th {\n",
              "        text-align: right;\n",
              "    }\n",
              "</style>\n",
              "<table border=\"1\" class=\"dataframe\">\n",
              "  <thead>\n",
              "    <tr style=\"text-align: right;\">\n",
              "      <th></th>\n",
              "      <th>Bin</th>\n",
              "      <th>Count</th>\n",
              "      <th>Count (%)</th>\n",
              "      <th>Non-event</th>\n",
              "      <th>Event</th>\n",
              "      <th>Event rate</th>\n",
              "      <th>WoE</th>\n",
              "      <th>IV</th>\n",
              "      <th>JS</th>\n",
              "    </tr>\n",
              "  </thead>\n",
              "  <tbody>\n",
              "    <tr>\n",
              "      <th>0</th>\n",
              "      <td>(-inf, 25.00)</td>\n",
              "      <td>190</td>\n",
              "      <td>0.190</td>\n",
              "      <td>110</td>\n",
              "      <td>80</td>\n",
              "      <td>0.421053</td>\n",
              "      <td>-0.528844</td>\n",
              "      <td>0.057921</td>\n",
              "      <td>0.007157</td>\n",
              "    </tr>\n",
              "    <tr>\n",
              "      <th>1</th>\n",
              "      <td>[25.00, 29.00)</td>\n",
              "      <td>181</td>\n",
              "      <td>0.181</td>\n",
              "      <td>124</td>\n",
              "      <td>57</td>\n",
              "      <td>0.314917</td>\n",
              "      <td>-0.070068</td>\n",
              "      <td>0.000901</td>\n",
              "      <td>0.000113</td>\n",
              "    </tr>\n",
              "    <tr>\n",
              "      <th>2</th>\n",
              "      <td>[29.00, 33.00)</td>\n",
              "      <td>145</td>\n",
              "      <td>0.145</td>\n",
              "      <td>101</td>\n",
              "      <td>44</td>\n",
              "      <td>0.303448</td>\n",
              "      <td>-0.016367</td>\n",
              "      <td>0.000039</td>\n",
              "      <td>0.000005</td>\n",
              "    </tr>\n",
              "    <tr>\n",
              "      <th>3</th>\n",
              "      <td>[33.00, 60.00)</td>\n",
              "      <td>439</td>\n",
              "      <td>0.439</td>\n",
              "      <td>330</td>\n",
              "      <td>109</td>\n",
              "      <td>0.248292</td>\n",
              "      <td>0.260447</td>\n",
              "      <td>0.028153</td>\n",
              "      <td>0.003509</td>\n",
              "    </tr>\n",
              "    <tr>\n",
              "      <th>4</th>\n",
              "      <td>[60.00, inf)</td>\n",
              "      <td>45</td>\n",
              "      <td>0.045</td>\n",
              "      <td>35</td>\n",
              "      <td>10</td>\n",
              "      <td>0.222222</td>\n",
              "      <td>0.405465</td>\n",
              "      <td>0.006758</td>\n",
              "      <td>0.000839</td>\n",
              "    </tr>\n",
              "    <tr>\n",
              "      <th>5</th>\n",
              "      <td>Special</td>\n",
              "      <td>0</td>\n",
              "      <td>0.000</td>\n",
              "      <td>0</td>\n",
              "      <td>0</td>\n",
              "      <td>0.000000</td>\n",
              "      <td>0.0</td>\n",
              "      <td>0.000000</td>\n",
              "      <td>0.000000</td>\n",
              "    </tr>\n",
              "    <tr>\n",
              "      <th>6</th>\n",
              "      <td>Missing</td>\n",
              "      <td>0</td>\n",
              "      <td>0.000</td>\n",
              "      <td>0</td>\n",
              "      <td>0</td>\n",
              "      <td>0.000000</td>\n",
              "      <td>0.0</td>\n",
              "      <td>0.000000</td>\n",
              "      <td>0.000000</td>\n",
              "    </tr>\n",
              "    <tr>\n",
              "      <th>Totals</th>\n",
              "      <td></td>\n",
              "      <td>1000</td>\n",
              "      <td>1.000</td>\n",
              "      <td>700</td>\n",
              "      <td>300</td>\n",
              "      <td>0.300000</td>\n",
              "      <td></td>\n",
              "      <td>0.093772</td>\n",
              "      <td>0.011623</td>\n",
              "    </tr>\n",
              "  </tbody>\n",
              "</table>\n",
              "</div>\n",
              "      <button class=\"colab-df-convert\" onclick=\"convertToInteractive('df-aa489b4f-6d41-442a-84ef-f3b01c2e8d3c')\"\n",
              "              title=\"Convert this dataframe to an interactive table.\"\n",
              "              style=\"display:none;\">\n",
              "        \n",
              "  <svg xmlns=\"http://www.w3.org/2000/svg\" height=\"24px\"viewBox=\"0 0 24 24\"\n",
              "       width=\"24px\">\n",
              "    <path d=\"M0 0h24v24H0V0z\" fill=\"none\"/>\n",
              "    <path d=\"M18.56 5.44l.94 2.06.94-2.06 2.06-.94-2.06-.94-.94-2.06-.94 2.06-2.06.94zm-11 1L8.5 8.5l.94-2.06 2.06-.94-2.06-.94L8.5 2.5l-.94 2.06-2.06.94zm10 10l.94 2.06.94-2.06 2.06-.94-2.06-.94-.94-2.06-.94 2.06-2.06.94z\"/><path d=\"M17.41 7.96l-1.37-1.37c-.4-.4-.92-.59-1.43-.59-.52 0-1.04.2-1.43.59L10.3 9.45l-7.72 7.72c-.78.78-.78 2.05 0 2.83L4 21.41c.39.39.9.59 1.41.59.51 0 1.02-.2 1.41-.59l7.78-7.78 2.81-2.81c.8-.78.8-2.07 0-2.86zM5.41 20L4 18.59l7.72-7.72 1.47 1.35L5.41 20z\"/>\n",
              "  </svg>\n",
              "      </button>\n",
              "      \n",
              "  <style>\n",
              "    .colab-df-container {\n",
              "      display:flex;\n",
              "      flex-wrap:wrap;\n",
              "      gap: 12px;\n",
              "    }\n",
              "\n",
              "    .colab-df-convert {\n",
              "      background-color: #E8F0FE;\n",
              "      border: none;\n",
              "      border-radius: 50%;\n",
              "      cursor: pointer;\n",
              "      display: none;\n",
              "      fill: #1967D2;\n",
              "      height: 32px;\n",
              "      padding: 0 0 0 0;\n",
              "      width: 32px;\n",
              "    }\n",
              "\n",
              "    .colab-df-convert:hover {\n",
              "      background-color: #E2EBFA;\n",
              "      box-shadow: 0px 1px 2px rgba(60, 64, 67, 0.3), 0px 1px 3px 1px rgba(60, 64, 67, 0.15);\n",
              "      fill: #174EA6;\n",
              "    }\n",
              "\n",
              "    [theme=dark] .colab-df-convert {\n",
              "      background-color: #3B4455;\n",
              "      fill: #D2E3FC;\n",
              "    }\n",
              "\n",
              "    [theme=dark] .colab-df-convert:hover {\n",
              "      background-color: #434B5C;\n",
              "      box-shadow: 0px 1px 3px 1px rgba(0, 0, 0, 0.15);\n",
              "      filter: drop-shadow(0px 1px 2px rgba(0, 0, 0, 0.3));\n",
              "      fill: #FFFFFF;\n",
              "    }\n",
              "  </style>\n",
              "\n",
              "      <script>\n",
              "        const buttonEl =\n",
              "          document.querySelector('#df-aa489b4f-6d41-442a-84ef-f3b01c2e8d3c button.colab-df-convert');\n",
              "        buttonEl.style.display =\n",
              "          google.colab.kernel.accessAllowed ? 'block' : 'none';\n",
              "\n",
              "        async function convertToInteractive(key) {\n",
              "          const element = document.querySelector('#df-aa489b4f-6d41-442a-84ef-f3b01c2e8d3c');\n",
              "          const dataTable =\n",
              "            await google.colab.kernel.invokeFunction('convertToInteractive',\n",
              "                                                     [key], {});\n",
              "          if (!dataTable) return;\n",
              "\n",
              "          const docLinkHtml = 'Like what you see? Visit the ' +\n",
              "            '<a target=\"_blank\" href=https://colab.research.google.com/notebooks/data_table.ipynb>data table notebook</a>'\n",
              "            + ' to learn more about interactive tables.';\n",
              "          element.innerHTML = '';\n",
              "          dataTable['output_type'] = 'display_data';\n",
              "          await google.colab.output.renderOutput(dataTable, element);\n",
              "          const docLink = document.createElement('div');\n",
              "          docLink.innerHTML = docLinkHtml;\n",
              "          element.appendChild(docLink);\n",
              "        }\n",
              "      </script>\n",
              "    </div>\n",
              "  </div>\n",
              "  "
            ]
          },
          "metadata": {},
          "execution_count": 54
        }
      ]
    },
    {
      "cell_type": "code",
      "source": [
        "optbsketch.binning_table.plot(metric=\"event_rate\")"
      ],
      "metadata": {
        "colab": {
          "base_uri": "https://localhost:8080/",
          "height": 339
        },
        "id": "uRm0HKQthis6",
        "outputId": "5f008d2a-c0ed-4d5b-bac3-0c14682edae3"
      },
      "execution_count": 55,
      "outputs": [
        {
          "output_type": "display_data",
          "data": {
            "text/plain": [
              "<Figure size 432x288 with 2 Axes>"
            ],
            "image/png": "[encoded data removed]"
          },
          "metadata": {
            "needs_background": "light"
          }
        }
      ]
    }
  ]
}