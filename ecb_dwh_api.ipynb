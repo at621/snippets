{
  "nbformat": 4,
  "nbformat_minor": 0,
  "metadata": {
    "colab": {
      "provenance": []
    },
    "kernelspec": {
      "name": "python3",
      "display_name": "Python 3"
    },
    "language_info": {
      "name": "python"
    }
  },
  "cells": [
    {
      "cell_type": "markdown",
      "source": [
        "### Accessing the European Central Bank DWH risk data with Python\n",
        "\n",
        "The European Central Bank (ECB) and the European Banking Authority (EBA) have made a large amount of credit risk information available. Although much of this information is not yet in a machine-readable format, the [ECB DWH](https://sdw-wsrest.ecb.europa.eu/help/) is starting to change this situation.\n"
      ],
      "metadata": {
        "id": "8FRhrcJCE5Qx"
      }
    },
    {
      "cell_type": "code",
      "source": [
        "import requests\n",
        "import pandas as pd\n",
        "import io\n",
        "import matplotlib.pyplot as plt"
      ],
      "metadata": {
        "id": "PKjTCdU9EwBX"
      },
      "execution_count": 252,
      "outputs": []
    },
    {
      "cell_type": "code",
      "source": [
        "# Query the ECB DWH for risk data\n",
        "def sup_ecb_data(countries, data_items):\n",
        "  country_list = \"+\".join(countries)\n",
        "  item_list = \"+\".join(data_items)\n",
        "\n",
        "  entrypoint = 'https://sdw-wsrest.ecb.europa.eu/service/'\n",
        "  resource = 'data'\n",
        "  flowRef ='SUP'\n",
        "  key = f'Q.B01.{country_list}._Z.{item_list}._T._Z._Z._Z._Z.PCT.C'\n",
        "\n",
        "  # Define the parameters\n",
        "  params = {\n",
        "      'startPeriod': '2000-01-01',  # Start date of the time series\n",
        "      'endPeriod': '2022-10-01'     # End of the time series\n",
        "  }\n",
        "\n",
        "  # Create the query\n",
        "  request_url = entrypoint + resource + '/'+ flowRef + '/' + key\n",
        "\n",
        "  # Make the HTTP request\n",
        "  return requests.get(request_url, params=params, headers={'Accept': 'text/csv'})"
      ],
      "metadata": {
        "id": "u_5t39B0Ev-b"
      },
      "execution_count": 253,
      "outputs": []
    },
    {
      "cell_type": "code",
      "source": [
        "# Parametrisation\n",
        "countries = ['ES', 'DE', 'FR', 'IT', 'EE', 'SE', \n",
        "             'IT', 'NL', 'CH', 'FI', 'BE']\n",
        "data_items = ['EPD05', 'EL005']\n",
        "\n",
        "# Request\n",
        "response = sup_ecb_data(countries, data_items)"
      ],
      "metadata": {
        "id": "9yJI2vbdVGGW"
      },
      "execution_count": 254,
      "outputs": []
    },
    {
      "cell_type": "code",
      "source": [
        "# Read the response as a file into a Pandas DataFrame\n",
        "df = pd.read_csv(io.StringIO(response.text))\n",
        "\n",
        "df[['TIME_PERIOD', 'TITLE', 'TITLE_COMPL', 'COUNT_AREA', 'OBS_VALUE']].head()"
      ],
      "metadata": {
        "colab": {
          "base_uri": "https://localhost:8080/",
          "height": 206
        },
        "id": "kvGw0o3vEv7n",
        "outputId": "d805bb53-b585-4e9c-f6b0-d03a3e60fd84"
      },
      "execution_count": 255,
      "outputs": [
        {
          "output_type": "execute_result",
          "data": {
            "text/plain": [
              "  TIME_PERIOD               TITLE  \\\n",
              "0     2018-Q3  Loss given default   \n",
              "1     2018-Q4  Loss given default   \n",
              "2     2019-Q1  Loss given default   \n",
              "3     2019-Q2  Loss given default   \n",
              "4     2019-Q3  Loss given default   \n",
              "\n",
              "                                         TITLE_COMPL COUNT_AREA  OBS_VALUE  \n",
              "0  Exposure weighted average lgd (%) - retail - s...         BE      13.29  \n",
              "1  Exposure weighted average lgd (%) - retail - s...         BE      13.62  \n",
              "2  Exposure weighted average lgd (%) - retail - s...         BE      13.60  \n",
              "3  Exposure weighted average lgd (%) - retail - s...         BE      13.51  \n",
              "4  Exposure weighted average lgd (%) - retail - s...         BE      13.69  "
            ],
            "text/html": [
              "\n",
              "  <div id=\"df-2e7eac05-6c05-4880-8303-e5d758aa88e8\">\n",
              "    <div class=\"colab-df-container\">\n",
              "      <div>\n",
              "<style scoped>\n",
              "    .dataframe tbody tr th:only-of-type {\n",
              "        vertical-align: middle;\n",
              "    }\n",
              "\n",
              "    .dataframe tbody tr th {\n",
              "        vertical-align: top;\n",
              "    }\n",
              "\n",
              "    .dataframe thead th {\n",
              "        text-align: right;\n",
              "    }\n",
              "</style>\n",
              "<table border=\"1\" class=\"dataframe\">\n",
              "  <thead>\n",
              "    <tr style=\"text-align: right;\">\n",
              "      <th></th>\n",
              "      <th>TIME_PERIOD</th>\n",
              "      <th>TITLE</th>\n",
              "      <th>TITLE_COMPL</th>\n",
              "      <th>COUNT_AREA</th>\n",
              "      <th>OBS_VALUE</th>\n",
              "    </tr>\n",
              "  </thead>\n",
              "  <tbody>\n",
              "    <tr>\n",
              "      <th>0</th>\n",
              "      <td>2018-Q3</td>\n",
              "      <td>Loss given default</td>\n",
              "      <td>Exposure weighted average lgd (%) - retail - s...</td>\n",
              "      <td>BE</td>\n",
              "      <td>13.29</td>\n",
              "    </tr>\n",
              "    <tr>\n",
              "      <th>1</th>\n",
              "      <td>2018-Q4</td>\n",
              "      <td>Loss given default</td>\n",
              "      <td>Exposure weighted average lgd (%) - retail - s...</td>\n",
              "      <td>BE</td>\n",
              "      <td>13.62</td>\n",
              "    </tr>\n",
              "    <tr>\n",
              "      <th>2</th>\n",
              "      <td>2019-Q1</td>\n",
              "      <td>Loss given default</td>\n",
              "      <td>Exposure weighted average lgd (%) - retail - s...</td>\n",
              "      <td>BE</td>\n",
              "      <td>13.60</td>\n",
              "    </tr>\n",
              "    <tr>\n",
              "      <th>3</th>\n",
              "      <td>2019-Q2</td>\n",
              "      <td>Loss given default</td>\n",
              "      <td>Exposure weighted average lgd (%) - retail - s...</td>\n",
              "      <td>BE</td>\n",
              "      <td>13.51</td>\n",
              "    </tr>\n",
              "    <tr>\n",
              "      <th>4</th>\n",
              "      <td>2019-Q3</td>\n",
              "      <td>Loss given default</td>\n",
              "      <td>Exposure weighted average lgd (%) - retail - s...</td>\n",
              "      <td>BE</td>\n",
              "      <td>13.69</td>\n",
              "    </tr>\n",
              "  </tbody>\n",
              "</table>\n",
              "</div>\n",
              "      <button class=\"colab-df-convert\" onclick=\"convertToInteractive('df-2e7eac05-6c05-4880-8303-e5d758aa88e8')\"\n",
              "              title=\"Convert this dataframe to an interactive table.\"\n",
              "              style=\"display:none;\">\n",
              "        \n",
              "  <svg xmlns=\"http://www.w3.org/2000/svg\" height=\"24px\"viewBox=\"0 0 24 24\"\n",
              "       width=\"24px\">\n",
              "    <path d=\"M0 0h24v24H0V0z\" fill=\"none\"/>\n",
              "    <path d=\"M18.56 5.44l.94 2.06.94-2.06 2.06-.94-2.06-.94-.94-2.06-.94 2.06-2.06.94zm-11 1L8.5 8.5l.94-2.06 2.06-.94-2.06-.94L8.5 2.5l-.94 2.06-2.06.94zm10 10l.94 2.06.94-2.06 2.06-.94-2.06-.94-.94-2.06-.94 2.06-2.06.94z\"/><path d=\"M17.41 7.96l-1.37-1.37c-.4-.4-.92-.59-1.43-.59-.52 0-1.04.2-1.43.59L10.3 9.45l-7.72 7.72c-.78.78-.78 2.05 0 2.83L4 21.41c.39.39.9.59 1.41.59.51 0 1.02-.2 1.41-.59l7.78-7.78 2.81-2.81c.8-.78.8-2.07 0-2.86zM5.41 20L4 18.59l7.72-7.72 1.47 1.35L5.41 20z\"/>\n",
              "  </svg>\n",
              "      </button>\n",
              "      \n",
              "  <style>\n",
              "    .colab-df-container {\n",
              "      display:flex;\n",
              "      flex-wrap:wrap;\n",
              "      gap: 12px;\n",
              "    }\n",
              "\n",
              "    .colab-df-convert {\n",
              "      background-color: #E8F0FE;\n",
              "      border: none;\n",
              "      border-radius: 50%;\n",
              "      cursor: pointer;\n",
              "      display: none;\n",
              "      fill: #1967D2;\n",
              "      height: 32px;\n",
              "      padding: 0 0 0 0;\n",
              "      width: 32px;\n",
              "    }\n",
              "\n",
              "    .colab-df-convert:hover {\n",
              "      background-color: #E2EBFA;\n",
              "      box-shadow: 0px 1px 2px rgba(60, 64, 67, 0.3), 0px 1px 3px 1px rgba(60, 64, 67, 0.15);\n",
              "      fill: #174EA6;\n",
              "    }\n",
              "\n",
              "    [theme=dark] .colab-df-convert {\n",
              "      background-color: #3B4455;\n",
              "      fill: #D2E3FC;\n",
              "    }\n",
              "\n",
              "    [theme=dark] .colab-df-convert:hover {\n",
              "      background-color: #434B5C;\n",
              "      box-shadow: 0px 1px 3px 1px rgba(0, 0, 0, 0.15);\n",
              "      filter: drop-shadow(0px 1px 2px rgba(0, 0, 0, 0.3));\n",
              "      fill: #FFFFFF;\n",
              "    }\n",
              "  </style>\n",
              "\n",
              "      <script>\n",
              "        const buttonEl =\n",
              "          document.querySelector('#df-2e7eac05-6c05-4880-8303-e5d758aa88e8 button.colab-df-convert');\n",
              "        buttonEl.style.display =\n",
              "          google.colab.kernel.accessAllowed ? 'block' : 'none';\n",
              "\n",
              "        async function convertToInteractive(key) {\n",
              "          const element = document.querySelector('#df-2e7eac05-6c05-4880-8303-e5d758aa88e8');\n",
              "          const dataTable =\n",
              "            await google.colab.kernel.invokeFunction('convertToInteractive',\n",
              "                                                     [key], {});\n",
              "          if (!dataTable) return;\n",
              "\n",
              "          const docLinkHtml = 'Like what you see? Visit the ' +\n",
              "            '<a target=\"_blank\" href=https://colab.research.google.com/notebooks/data_table.ipynb>data table notebook</a>'\n",
              "            + ' to learn more about interactive tables.';\n",
              "          element.innerHTML = '';\n",
              "          dataTable['output_type'] = 'display_data';\n",
              "          await google.colab.output.renderOutput(dataTable, element);\n",
              "          const docLink = document.createElement('div');\n",
              "          docLink.innerHTML = docLinkHtml;\n",
              "          element.appendChild(docLink);\n",
              "        }\n",
              "      </script>\n",
              "    </div>\n",
              "  </div>\n",
              "  "
            ]
          },
          "metadata": {},
          "execution_count": 255
        }
      ]
    },
    {
      "cell_type": "code",
      "source": [
        "# Display the LGD and PD combinations for different countries\n",
        "\n",
        "# Filter dataframe by date and create the dataset for plotting\n",
        "given_date = '2022-Q3'\n",
        "df21 = df[df['TIME_PERIOD'] == given_date]\n",
        "\n",
        "df2 = df21.pivot_table(index='COUNT_AREA', columns='TITLE', values='OBS_VALUE').reset_index()\n",
        "\n",
        "# create the scatter plot and add group names next to the datapoints\n",
        "for group, name in df2.groupby('COUNT_AREA'):\n",
        "    plt.scatter(name['Loss given default'], name['Probability of default'], label=group)\n",
        "\n",
        "for i, txt in enumerate(df2['COUNT_AREA']):\n",
        "    plt.annotate(txt, \n",
        "                 (df2['Loss given default'][i], \n",
        "                  df2['Probability of default'][i]), \n",
        "                 xytext=(10,0), \n",
        "                 textcoords='offset points')\n",
        "\n",
        "# Add info and show the plot\n",
        "plt.xlabel('LGD (%)')\n",
        "plt.ylabel('PD (%)')\n",
        "plt.title(f'Retail immovable property exposure class, {given_date}', y =1.1)\n",
        "\n",
        "plt.gca().spines['top'].set_visible(False)\n",
        "plt.gca().spines['right'].set_visible(False)\n",
        "\n",
        "plt.show()"
      ],
      "metadata": {
        "colab": {
          "base_uri": "https://localhost:8080/",
          "height": 317
        },
        "id": "nwLTqjn5lK-5",
        "outputId": "ef8c0c72-956c-46c6-a732-bc39a920c48a"
      },
      "execution_count": 256,
      "outputs": [
        {
          "output_type": "display_data",
          "data": {
            "text/plain": [
              "<Figure size 432x288 with 1 Axes>"
            ],
            "image/png": "[encoded data removed]"
          },
          "metadata": {
            "needs_background": "light"
          }
        }
      ]
    }
  ]
}