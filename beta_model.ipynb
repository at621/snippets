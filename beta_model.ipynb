{
  "nbformat": 4,
  "nbformat_minor": 0,
  "metadata": {
    "colab": {
      "provenance": []
    },
    "kernelspec": {
      "name": "python3",
      "display_name": "Python 3"
    },
    "language_info": {
      "name": "python"
    }
  },
  "cells": [
    {
      "cell_type": "code",
      "source": [
        "import numpy as np\n",
        "import pandas as pd\n",
        "from statsmodels.genmod import families\n",
        "from statsmodels.othermod.betareg import BetaModel\n",
        "from sklearn.metrics import r2_score\n",
        "from sklearn.model_selection import train_test_split\n",
        "\n",
        "links = families.links\n",
        "\n",
        "# Set a seed for reproducibility\n",
        "np.random.seed(0)\n",
        "\n",
        "# Generate independent variables\n",
        "n = 1000  # number of samples\n",
        "Months_on_Book = np.random.normal(50, 10, n)  # Normal distribution with mean 50 and standard deviation 10\n",
        "utilisation_ratio = np.random.normal(0.6, 0.1, n)  # Normal distribution with mean 0.6 and standard deviation 0.1\n",
        "\n",
        "# Generate dependent variable with some correlation to the independent variables\n",
        "noise = np.random.uniform(-0.02, 0.02, n)  # Some noise\n",
        "CCF = utilisation_ratio * 0.5 + Months_on_Book * 0.002 + noise  # CCF has some correlation with the independent variables\n",
        "\n",
        "# Ensure CCF is in range 0-1\n",
        "CCF = np.clip(CCF, 0, 1)\n",
        "\n",
        "# Create a dataframe\n",
        "df = pd.DataFrame({'CCF': CCF, 'utilisation_ratio': utilisation_ratio, 'Months_on_Book': Months_on_Book})\n",
        "\n",
        "# Split the data\n",
        "df_train, df_test = train_test_split(df, test_size=0.2, random_state=42)\n",
        "\n",
        "# Specify and fit the model to the training data\n",
        "model = \"CCF ~ utilisation_ratio + Months_on_Book\"\n",
        "mod = BetaModel.from_formula(model, df_train, link_precision=links.identity())\n",
        "res = mod.fit()\n",
        "\n",
        "print(res.summary())"
      ],
      "metadata": {
        "colab": {
          "base_uri": "https://localhost:8080/"
        },
        "id": "cPpVPMAYzJ0U",
        "outputId": "c3f6f1d7-1452-4283-fb1e-c09ff21a0ea8"
      },
      "execution_count": 1,
      "outputs": [
        {
          "output_type": "stream",
          "name": "stdout",
          "text": [
            "                              BetaModel Results                               \n",
            "==============================================================================\n",
            "Dep. Variable:                    CCF   Log-Likelihood:                 2441.1\n",
            "Model:                      BetaModel   AIC:                            -4874.\n",
            "Method:            Maximum Likelihood   BIC:                            -4855.\n",
            "Date:                Sat, 17 Jun 2023                                         \n",
            "Time:                        19:29:49                                         \n",
            "No. Observations:                 800                                         \n",
            "Df Residuals:                     796                                         \n",
            "Df Model:                           3                                         \n",
            "=====================================================================================\n",
            "                        coef    std err          z      P>|z|      [0.025      0.975]\n",
            "-------------------------------------------------------------------------------------\n",
            "Intercept            -2.0915      0.014   -147.702      0.000      -2.119      -2.064\n",
            "utilisation_ratio     2.1106      0.018    116.749      0.000       2.075       2.146\n",
            "Months_on_Book        0.0083      0.000     47.927      0.000       0.008       0.009\n",
            "precision          1809.6647     90.459     20.005      0.000    1632.368    1986.961\n",
            "=====================================================================================\n"
          ]
        }
      ]
    },
    {
      "cell_type": "code",
      "source": [
        "# Make predictions on the test data\n",
        "df_test['pred'] = res.predict(df_test)\n",
        "\n",
        "# Calculate R^2\n",
        "r2 = r2_score(df_test['CCF'], df_test['pred'])\n",
        "print(\"R^2: \", r2)"
      ],
      "metadata": {
        "colab": {
          "base_uri": "https://localhost:8080/"
        },
        "id": "d-PZv8Pz0p2D",
        "outputId": "ede6e7d2-78f3-4c9f-fda1-f2c46b337ed5"
      },
      "execution_count": 2,
      "outputs": [
        {
          "output_type": "stream",
          "name": "stdout",
          "text": [
            "R^2:  0.9480404105243195\n"
          ]
        }
      ]
    }
  ]
}