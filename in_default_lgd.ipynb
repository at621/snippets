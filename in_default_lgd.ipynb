{
  "nbformat": 4,
  "nbformat_minor": 0,
  "metadata": {
    "colab": {
      "provenance": []
    },
    "kernelspec": {
      "name": "python3",
      "display_name": "Python 3"
    },
    "language_info": {
      "name": "python"
    }
  },
  "cells": [
    {
      "cell_type": "markdown",
      "source": [
        "# Calibration of best-estimate in-default LGD model\n",
        "\n",
        "Two options to calculate LRA LGD:\n",
        "- per pool, if no material biases are present\n",
        "- per pool and reference date\n",
        "\n",
        "</br>\n",
        "\n",
        "EBA/GL/2017/16: \n",
        "1. For risk parameters for defaulted exposures, all requirements specified for  LGD in Chapter 6 apply, unless explicitly specified otherwise. A major aspect which differentiates ELBE and LGD indefault from LGD for non-defaulted exposures is the concept of reference dates, which have to be taken into account both in model development and in calibration, given that the calibration has to be performed separately for each reference date.\n",
        "2. Art 161: Institutions should calibrate their LGD estimates to the long run average LGD calculated in accordance with section 6.3.2.\n",
        "3. Art 178: For the purposes of ELBE and LGD in-default estimation, institutions should calculate the realised LGDs for defaulted exposures, in accordance with section 6.3.1 with the only difference that this should be done with regard to each of the reference dates specified in accordance with paragraphs 171 to 174, rather than the date of default. In the calculation of the realised LGD at a given reference date institutions should include all fees and interest capitalised before the reference date and they should discount all subsequent cash flows and drawings to the reference date.\n",
        "4. Art 150: Without prejudice to Article 181(2) of Regulation (EU) No 575/2013 institutions should calculate the long-run average LGD as an arithmetic average of realised LGDs over a historical observation period weighted by a number of defaults. Institutions should not use for that purpose any averages of LGDs calculated on a subset of observations, in particular any yearly average LGDs, unless they use this method to reflect higher weights of more recent data on retail exposures in accordance with Article 181(2) of Regulation (EU) No 575 2013."
      ],
      "metadata": {
        "id": "cITnhSPk-piN"
      }
    },
    {
      "cell_type": "code",
      "source": [
        "!pip install --upgrade statsmodels"
      ],
      "metadata": {
        "colab": {
          "base_uri": "https://localhost:8080/"
        },
        "id": "APAiOGbaqcMX",
        "outputId": "74b37d80-dc57-4b60-81ad-039503489ee5"
      },
      "execution_count": 1,
      "outputs": [
        {
          "output_type": "stream",
          "name": "stdout",
          "text": [
            "Looking in indexes: https://pypi.org/simple, https://us-python.pkg.dev/colab-wheels/public/simple/\n",
            "Requirement already satisfied: statsmodels in /usr/local/lib/python3.7/dist-packages (0.13.5)\n",
            "Requirement already satisfied: numpy>=1.17 in /usr/local/lib/python3.7/dist-packages (from statsmodels) (1.21.6)\n",
            "Requirement already satisfied: patsy>=0.5.2 in /usr/local/lib/python3.7/dist-packages (from statsmodels) (0.5.3)\n",
            "Requirement already satisfied: scipy>=1.3 in /usr/local/lib/python3.7/dist-packages (from statsmodels) (1.7.3)\n",
            "Requirement already satisfied: pandas>=0.25 in /usr/local/lib/python3.7/dist-packages (from statsmodels) (1.3.5)\n",
            "Requirement already satisfied: packaging>=21.3 in /usr/local/lib/python3.7/dist-packages (from statsmodels) (21.3)\n",
            "Requirement already satisfied: pyparsing!=3.0.5,>=2.0.2 in /usr/local/lib/python3.7/dist-packages (from packaging>=21.3->statsmodels) (3.0.9)\n",
            "Requirement already satisfied: pytz>=2017.3 in /usr/local/lib/python3.7/dist-packages (from pandas>=0.25->statsmodels) (2022.6)\n",
            "Requirement already satisfied: python-dateutil>=2.7.3 in /usr/local/lib/python3.7/dist-packages (from pandas>=0.25->statsmodels) (2.8.2)\n",
            "Requirement already satisfied: six in /usr/local/lib/python3.7/dist-packages (from patsy>=0.5.2->statsmodels) (1.15.0)\n"
          ]
        }
      ]
    },
    {
      "cell_type": "code",
      "source": [
        "import numpy as np\n",
        "import pandas as pd\n",
        "import random\n",
        "\n",
        "from statsmodels.genmod import families\n",
        "links = families.links\n",
        "from statsmodels.othermod.betareg import BetaModel"
      ],
      "metadata": {
        "id": "0BVlrlMm_bqe"
      },
      "execution_count": 2,
      "outputs": []
    },
    {
      "cell_type": "code",
      "source": [
        "# Parametrisation\n",
        "num_contracts = 10\n",
        "max_reference_periods = 10\n",
        "contract_reference_periods = range(2, max_reference_periods)\n",
        "length_of_outlier_contract = 1 # test with 1000 to see the outlier's influence\n",
        "lgd_of_outlier_contract = 0.9 "
      ],
      "metadata": {
        "id": "FxkVLkzGelE2"
      },
      "execution_count": 3,
      "outputs": []
    },
    {
      "cell_type": "code",
      "source": [
        "# Create synthetic dataset\n",
        "data = []\n",
        "\n",
        "for contract_id in range(1, num_contracts):\n",
        "  periods = random.choice(contract_reference_periods)\n",
        "  if contract_id == 1:\n",
        "    periods = length_of_outlier_contract\n",
        "\n",
        "  for period in range(1, periods):\n",
        "    mob = period\n",
        "    repaid_percent = np.where(mob > 3, 0.5, 0.1) + random.random()\n",
        "    realised_lgd = (random.random() * (period/max_reference_periods) + \n",
        "                    repaid_percent * random.random() / 3)\n",
        "\n",
        "    if contract_id == 1:\n",
        "      realised_lgd = lgd_of_outlier_contract\n",
        "\n",
        "    # Store dataset\n",
        "    data.append([contract_id, period, mob, repaid_percent, realised_lgd])\n",
        "\n",
        "# Create dataframe and standardise lgd\n",
        "def normalise(data):\n",
        "    return (data - np.min(data)) / (np.max(data) - np.min(data))\n",
        "\n",
        "cols = ['contract_id', 'period', 'reference_date_mob', 'repaid_percent', 'realised_lgd']\n",
        "df = pd.DataFrame(data, columns=cols)\n",
        "df['realised_lgd'] = normalise(df['realised_lgd'])\n",
        "df['realised_lgd'] = np.clip(df['realised_lgd'], 0.0001, 0.9999)"
      ],
      "metadata": {
        "id": "aP1auHi8-muN"
      },
      "execution_count": 4,
      "outputs": []
    },
    {
      "cell_type": "code",
      "source": [
        "# Create beta regression\n",
        "model = \"I(realised_lgd) ~ repaid_percent + reference_date_mob\"\n",
        "beta_lgd = BetaModel.from_formula(model, df, link_precision=links.identity())\n",
        "res = beta_lgd.fit()\n",
        "print(res.summary())\n",
        "\n",
        "df['predict_lgd'] = res.predict()"
      ],
      "metadata": {
        "colab": {
          "base_uri": "https://localhost:8080/"
        },
        "id": "ZHW0wRbCHtrs",
        "outputId": "28d50121-f302-41de-f62c-030b6fb24719"
      },
      "execution_count": 5,
      "outputs": [
        {
          "output_type": "stream",
          "name": "stdout",
          "text": [
            "                              BetaModel Results                               \n",
            "==============================================================================\n",
            "Dep. Variable:        I(realised_lgd)   Log-Likelihood:                 21.353\n",
            "Model:                      BetaModel   AIC:                            -34.71\n",
            "Method:            Maximum Likelihood   BIC:                            -28.49\n",
            "Date:                Mon, 21 Nov 2022                                         \n",
            "Time:                        05:30:46                                         \n",
            "No. Observations:                  35                                         \n",
            "Df Residuals:                      31                                         \n",
            "Df Model:                           3                                         \n",
            "======================================================================================\n",
            "                         coef    std err          z      P>|z|      [0.025      0.975]\n",
            "--------------------------------------------------------------------------------------\n",
            "Intercept             -2.9721      0.422     -7.040      0.000      -3.800      -2.145\n",
            "repaid_percent         1.4586      0.548      2.662      0.008       0.385       2.532\n",
            "reference_date_mob     0.3341      0.086      3.884      0.000       0.165       0.503\n",
            "precision              4.7501      1.098      4.325      0.000       2.598       6.902\n",
            "======================================================================================\n"
          ]
        }
      ]
    },
    {
      "cell_type": "code",
      "source": [
        "df.plot.scatter(x='realised_lgd', y='predict_lgd');"
      ],
      "metadata": {
        "colab": {
          "base_uri": "https://localhost:8080/",
          "height": 282
        },
        "id": "9KVePTNHpuR3",
        "outputId": "d13ce9a6-8dd1-46ef-eaab-f2db410a89bf"
      },
      "execution_count": 6,
      "outputs": [
        {
          "output_type": "display_data",
          "data": {
            "text/plain": [
              "<Figure size 432x288 with 1 Axes>"
            ],
            "image/png": "[encoded data removed]"
          },
          "metadata": {
            "needs_background": "light"
          }
        }
      ]
    },
    {
      "cell_type": "code",
      "source": [
        "# Create pools (toy example)\n",
        "df['pool'] = pd.cut(df['predict_lgd'], 3, labels=[\"1\", \"2\", \"3\"])\n",
        "df.head()"
      ],
      "metadata": {
        "id": "qT0acZKC-U4p",
        "colab": {
          "base_uri": "https://localhost:8080/",
          "height": 206
        },
        "outputId": "929f6892-d53b-4df2-c1e3-035f8f3c49fd"
      },
      "execution_count": 7,
      "outputs": [
        {
          "output_type": "execute_result",
          "data": {
            "text/plain": [
              "   contract_id  period  reference_date_mob  repaid_percent  realised_lgd  \\\n",
              "0            2       1                   1        0.568619      0.160957   \n",
              "1            2       2                   2        0.976610      0.398521   \n",
              "2            2       3                   3        0.352804      0.202826   \n",
              "3            2       4                   4        1.063876      0.258275   \n",
              "4            3       1                   1        0.594388      0.201179   \n",
              "\n",
              "   predict_lgd pool  \n",
              "0     0.140807    1  \n",
              "1     0.293302    1  \n",
              "2     0.189206    1  \n",
              "3     0.479037    2  \n",
              "4     0.145416    1  "
            ],
            "text/html": [
              "\n",
              "  <div id=\"df-a6a6e1ac-bec3-46ea-8712-911b3a887a86\">\n",
              "    <div class=\"colab-df-container\">\n",
              "      <div>\n",
              "<style scoped>\n",
              "    .dataframe tbody tr th:only-of-type {\n",
              "        vertical-align: middle;\n",
              "    }\n",
              "\n",
              "    .dataframe tbody tr th {\n",
              "        vertical-align: top;\n",
              "    }\n",
              "\n",
              "    .dataframe thead th {\n",
              "        text-align: right;\n",
              "    }\n",
              "</style>\n",
              "<table border=\"1\" class=\"dataframe\">\n",
              "  <thead>\n",
              "    <tr style=\"text-align: right;\">\n",
              "      <th></th>\n",
              "      <th>contract_id</th>\n",
              "      <th>period</th>\n",
              "      <th>reference_date_mob</th>\n",
              "      <th>repaid_percent</th>\n",
              "      <th>realised_lgd</th>\n",
              "      <th>predict_lgd</th>\n",
              "      <th>pool</th>\n",
              "    </tr>\n",
              "  </thead>\n",
              "  <tbody>\n",
              "    <tr>\n",
              "      <th>0</th>\n",
              "      <td>2</td>\n",
              "      <td>1</td>\n",
              "      <td>1</td>\n",
              "      <td>0.568619</td>\n",
              "      <td>0.160957</td>\n",
              "      <td>0.140807</td>\n",
              "      <td>1</td>\n",
              "    </tr>\n",
              "    <tr>\n",
              "      <th>1</th>\n",
              "      <td>2</td>\n",
              "      <td>2</td>\n",
              "      <td>2</td>\n",
              "      <td>0.976610</td>\n",
              "      <td>0.398521</td>\n",
              "      <td>0.293302</td>\n",
              "      <td>1</td>\n",
              "    </tr>\n",
              "    <tr>\n",
              "      <th>2</th>\n",
              "      <td>2</td>\n",
              "      <td>3</td>\n",
              "      <td>3</td>\n",
              "      <td>0.352804</td>\n",
              "      <td>0.202826</td>\n",
              "      <td>0.189206</td>\n",
              "      <td>1</td>\n",
              "    </tr>\n",
              "    <tr>\n",
              "      <th>3</th>\n",
              "      <td>2</td>\n",
              "      <td>4</td>\n",
              "      <td>4</td>\n",
              "      <td>1.063876</td>\n",
              "      <td>0.258275</td>\n",
              "      <td>0.479037</td>\n",
              "      <td>2</td>\n",
              "    </tr>\n",
              "    <tr>\n",
              "      <th>4</th>\n",
              "      <td>3</td>\n",
              "      <td>1</td>\n",
              "      <td>1</td>\n",
              "      <td>0.594388</td>\n",
              "      <td>0.201179</td>\n",
              "      <td>0.145416</td>\n",
              "      <td>1</td>\n",
              "    </tr>\n",
              "  </tbody>\n",
              "</table>\n",
              "</div>\n",
              "      <button class=\"colab-df-convert\" onclick=\"convertToInteractive('df-a6a6e1ac-bec3-46ea-8712-911b3a887a86')\"\n",
              "              title=\"Convert this dataframe to an interactive table.\"\n",
              "              style=\"display:none;\">\n",
              "        \n",
              "  <svg xmlns=\"http://www.w3.org/2000/svg\" height=\"24px\"viewBox=\"0 0 24 24\"\n",
              "       width=\"24px\">\n",
              "    <path d=\"M0 0h24v24H0V0z\" fill=\"none\"/>\n",
              "    <path d=\"M18.56 5.44l.94 2.06.94-2.06 2.06-.94-2.06-.94-.94-2.06-.94 2.06-2.06.94zm-11 1L8.5 8.5l.94-2.06 2.06-.94-2.06-.94L8.5 2.5l-.94 2.06-2.06.94zm10 10l.94 2.06.94-2.06 2.06-.94-2.06-.94-.94-2.06-.94 2.06-2.06.94z\"/><path d=\"M17.41 7.96l-1.37-1.37c-.4-.4-.92-.59-1.43-.59-.52 0-1.04.2-1.43.59L10.3 9.45l-7.72 7.72c-.78.78-.78 2.05 0 2.83L4 21.41c.39.39.9.59 1.41.59.51 0 1.02-.2 1.41-.59l7.78-7.78 2.81-2.81c.8-.78.8-2.07 0-2.86zM5.41 20L4 18.59l7.72-7.72 1.47 1.35L5.41 20z\"/>\n",
              "  </svg>\n",
              "      </button>\n",
              "      \n",
              "  <style>\n",
              "    .colab-df-container {\n",
              "      display:flex;\n",
              "      flex-wrap:wrap;\n",
              "      gap: 12px;\n",
              "    }\n",
              "\n",
              "    .colab-df-convert {\n",
              "      background-color: #E8F0FE;\n",
              "      border: none;\n",
              "      border-radius: 50%;\n",
              "      cursor: pointer;\n",
              "      display: none;\n",
              "      fill: #1967D2;\n",
              "      height: 32px;\n",
              "      padding: 0 0 0 0;\n",
              "      width: 32px;\n",
              "    }\n",
              "\n",
              "    .colab-df-convert:hover {\n",
              "      background-color: #E2EBFA;\n",
              "      box-shadow: 0px 1px 2px rgba(60, 64, 67, 0.3), 0px 1px 3px 1px rgba(60, 64, 67, 0.15);\n",
              "      fill: #174EA6;\n",
              "    }\n",
              "\n",
              "    [theme=dark] .colab-df-convert {\n",
              "      background-color: #3B4455;\n",
              "      fill: #D2E3FC;\n",
              "    }\n",
              "\n",
              "    [theme=dark] .colab-df-convert:hover {\n",
              "      background-color: #434B5C;\n",
              "      box-shadow: 0px 1px 3px 1px rgba(0, 0, 0, 0.15);\n",
              "      filter: drop-shadow(0px 1px 2px rgba(0, 0, 0, 0.3));\n",
              "      fill: #FFFFFF;\n",
              "    }\n",
              "  </style>\n",
              "\n",
              "      <script>\n",
              "        const buttonEl =\n",
              "          document.querySelector('#df-a6a6e1ac-bec3-46ea-8712-911b3a887a86 button.colab-df-convert');\n",
              "        buttonEl.style.display =\n",
              "          google.colab.kernel.accessAllowed ? 'block' : 'none';\n",
              "\n",
              "        async function convertToInteractive(key) {\n",
              "          const element = document.querySelector('#df-a6a6e1ac-bec3-46ea-8712-911b3a887a86');\n",
              "          const dataTable =\n",
              "            await google.colab.kernel.invokeFunction('convertToInteractive',\n",
              "                                                     [key], {});\n",
              "          if (!dataTable) return;\n",
              "\n",
              "          const docLinkHtml = 'Like what you see? Visit the ' +\n",
              "            '<a target=\"_blank\" href=https://colab.research.google.com/notebooks/data_table.ipynb>data table notebook</a>'\n",
              "            + ' to learn more about interactive tables.';\n",
              "          element.innerHTML = '';\n",
              "          dataTable['output_type'] = 'display_data';\n",
              "          await google.colab.output.renderOutput(dataTable, element);\n",
              "          const docLink = document.createElement('div');\n",
              "          docLink.innerHTML = docLinkHtml;\n",
              "          element.appendChild(docLink);\n",
              "        }\n",
              "      </script>\n",
              "    </div>\n",
              "  </div>\n",
              "  "
            ]
          },
          "metadata": {},
          "execution_count": 7
        }
      ]
    },
    {
      "cell_type": "code",
      "source": [
        "# Calculate Long Run Average LGD per pool\n",
        "df.groupby(['pool'])['realised_lgd'].mean()"
      ],
      "metadata": {
        "id": "z9yhtV39-U9h",
        "colab": {
          "base_uri": "https://localhost:8080/"
        },
        "outputId": "1b7852b8-b237-4f9a-ab3e-f87d2c59a6e7"
      },
      "execution_count": 8,
      "outputs": [
        {
          "output_type": "execute_result",
          "data": {
            "text/plain": [
              "pool\n",
              "1    0.190599\n",
              "2    0.383184\n",
              "3    0.598727\n",
              "Name: realised_lgd, dtype: float64"
            ]
          },
          "metadata": {},
          "execution_count": 8
        }
      ]
    },
    {
      "cell_type": "code",
      "source": [
        "# Calculate Long Run Average LGD per pool and reference date\n",
        "df.groupby(['pool', 'reference_date_mob'])['realised_lgd'].mean()"
      ],
      "metadata": {
        "colab": {
          "base_uri": "https://localhost:8080/"
        },
        "id": "Rz_Wh5v1qBHW",
        "outputId": "9206b5aa-bcfa-4bc1-b1ae-50d30fd470f4"
      },
      "execution_count": 9,
      "outputs": [
        {
          "output_type": "execute_result",
          "data": {
            "text/plain": [
              "pool  reference_date_mob\n",
              "1     1                     0.162824\n",
              "      2                     0.207793\n",
              "      3                     0.214404\n",
              "      4                          NaN\n",
              "      5                          NaN\n",
              "      6                          NaN\n",
              "      7                          NaN\n",
              "      8                          NaN\n",
              "2     1                          NaN\n",
              "      2                          NaN\n",
              "      3                     0.425811\n",
              "      4                     0.324606\n",
              "      5                     0.322884\n",
              "      6                          NaN\n",
              "      7                     0.695465\n",
              "      8                          NaN\n",
              "3     1                          NaN\n",
              "      2                          NaN\n",
              "      3                          NaN\n",
              "      4                          NaN\n",
              "      5                     0.444663\n",
              "      6                     0.394095\n",
              "      7                     0.787641\n",
              "      8                     0.793795\n",
              "Name: realised_lgd, dtype: float64"
            ]
          },
          "metadata": {},
          "execution_count": 9
        }
      ]
    }
  ]
}
