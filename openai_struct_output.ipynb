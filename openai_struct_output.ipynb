{
 "cells": [
  {
   "cell_type": "markdown",
   "id": "93db234e-5133-467e-8c40-180649f2ac81",
   "metadata": {},
   "source": [
    "### Extract best risk drivers based on Somers D\n",
    "\n",
    "\n",
    "**Introducing Structured Outputs in the API**  \n",
    "https://openai.com/index/introducing-structured-outputs-in-the-api/\n",
    "\n",
    "Last year at DevDay, we introduced JSON mode—a useful building block for developers looking to build reliable applications with our models. While JSON mode improves model reliability for generating valid JSON outputs, it does not guarantee that the model’s response will conform to a particular schema. Today we’re introducing Structured Outputs in the API, a new feature designed to ensure model-generated outputs will exactly match JSON Schemas provided by developers.\n",
    "\n",
    "Generating structured data from unstructured inputs is one of the core use cases for AI in today’s applications. Developers use the OpenAI API to build powerful assistants that have the ability to fetch data and answer questions via function calling(opens in a new window), extract structured data for data entry, and build multi-step agentic workflows that allow LLMs to take actions. Developers have long been working around the limitations of LLMs in this area via open source tooling, prompting, and retrying requests repeatedly to ensure that model outputs match the formats needed to interoperate with their systems. Structured Outputs solves this problem by constraining OpenAI models to match developer-supplied schemas and by training our models to better understand complicated schemas."
   ]
  },
  {
   "cell_type": "code",
   "execution_count": 7,
   "id": "6ec0b733-dcf2-4080-9384-1fe5ab7636ea",
   "metadata": {},
   "outputs": [],
   "source": [
    "from openai import OpenAI\n",
    "import json, os\n",
    "import pandas as pd\n",
    "\n",
    "## Set the API key\n",
    "client = OpenAI(api_key = os.getenv('OPENAI_API_KEY'))"
   ]
  },
  {
   "cell_type": "markdown",
   "id": "49b4f1f8-b474-4a8b-8061-1f155e66062d",
   "metadata": {},
   "source": [
    "#### A. Create dummy data"
   ]
  },
  {
   "cell_type": "code",
   "execution_count": 2,
   "id": "30d299fe-3b57-495b-9cf7-aa339576c0c7",
   "metadata": {},
   "outputs": [
    {
     "data": {
      "text/html": [
       "<div>\n",
       "<style scoped>\n",
       "    .dataframe tbody tr th:only-of-type {\n",
       "        vertical-align: middle;\n",
       "    }\n",
       "\n",
       "    .dataframe tbody tr th {\n",
       "        vertical-align: top;\n",
       "    }\n",
       "\n",
       "    .dataframe thead th {\n",
       "        text-align: right;\n",
       "    }\n",
       "</style>\n",
       "<table border=\"1\" class=\"dataframe\">\n",
       "  <thead>\n",
       "    <tr style=\"text-align: right;\">\n",
       "      <th></th>\n",
       "      <th>Risk Driver</th>\n",
       "      <th>Somers D Outcome</th>\n",
       "    </tr>\n",
       "  </thead>\n",
       "  <tbody>\n",
       "    <tr>\n",
       "      <th>0</th>\n",
       "      <td>Risk Driver E</td>\n",
       "      <td>0.40</td>\n",
       "    </tr>\n",
       "    <tr>\n",
       "      <th>1</th>\n",
       "      <td>Risk Driver C</td>\n",
       "      <td>0.35</td>\n",
       "    </tr>\n",
       "    <tr>\n",
       "      <th>2</th>\n",
       "      <td>Risk Driver I</td>\n",
       "      <td>0.33</td>\n",
       "    </tr>\n",
       "    <tr>\n",
       "      <th>3</th>\n",
       "      <td>Risk Driver G</td>\n",
       "      <td>0.27</td>\n",
       "    </tr>\n",
       "    <tr>\n",
       "      <th>4</th>\n",
       "      <td>Risk Driver B</td>\n",
       "      <td>0.22</td>\n",
       "    </tr>\n",
       "    <tr>\n",
       "      <th>5</th>\n",
       "      <td>Risk Driver F</td>\n",
       "      <td>0.18</td>\n",
       "    </tr>\n",
       "    <tr>\n",
       "      <th>6</th>\n",
       "      <td>Risk Driver A</td>\n",
       "      <td>0.15</td>\n",
       "    </tr>\n",
       "    <tr>\n",
       "      <th>7</th>\n",
       "      <td>Risk Driver J</td>\n",
       "      <td>0.12</td>\n",
       "    </tr>\n",
       "    <tr>\n",
       "      <th>8</th>\n",
       "      <td>Risk Driver H</td>\n",
       "      <td>0.09</td>\n",
       "    </tr>\n",
       "    <tr>\n",
       "      <th>9</th>\n",
       "      <td>Risk Driver D</td>\n",
       "      <td>0.05</td>\n",
       "    </tr>\n",
       "  </tbody>\n",
       "</table>\n",
       "</div>"
      ],
      "text/plain": [
       "     Risk Driver  Somers D Outcome\n",
       "0  Risk Driver E              0.40\n",
       "1  Risk Driver C              0.35\n",
       "2  Risk Driver I              0.33\n",
       "3  Risk Driver G              0.27\n",
       "4  Risk Driver B              0.22\n",
       "5  Risk Driver F              0.18\n",
       "6  Risk Driver A              0.15\n",
       "7  Risk Driver J              0.12\n",
       "8  Risk Driver H              0.09\n",
       "9  Risk Driver D              0.05"
      ]
     },
     "execution_count": 2,
     "metadata": {},
     "output_type": "execute_result"
    }
   ],
   "source": [
    "# Create the DataFrame with dummy data\n",
    "data = {\n",
    "    'Risk Driver': [\n",
    "        'Risk Driver A', 'Risk Driver B', 'Risk Driver C', 'Risk Driver D', 'Risk Driver E',\n",
    "        'Risk Driver F', 'Risk Driver G', 'Risk Driver H', 'Risk Driver I', 'Risk Driver J'\n",
    "    ],\n",
    "    'Somers D Outcome': [0.15, 0.22, 0.35, 0.05, 0.40, 0.18, 0.27, 0.09, 0.33, 0.12]\n",
    "}\n",
    "\n",
    "df = pd.DataFrame(data)\n",
    "\n",
    "# Convert DataFrame to JSON\n",
    "table_json = df.to_json(orient='records')\n",
    "\n",
    "df = df.sort_values('Somers D Outcome', ascending=False).reset_index(drop=True)\n",
    "df"
   ]
  },
  {
   "cell_type": "markdown",
   "id": "548153ae-8a5d-42d2-b6a6-eb3ea7fe69d2",
   "metadata": {},
   "source": [
    "#### B. Create a test table with drivers and Somers D values"
   ]
  },
  {
   "cell_type": "code",
   "execution_count": 3,
   "id": "af12bcea-cac7-4214-931d-040b2766bcfe",
   "metadata": {},
   "outputs": [],
   "source": [
    "# Create ChatGPT query\n",
    "tools = [\n",
    "    {\n",
    "        \"type\": \"function\",\n",
    "        \"function\": {\n",
    "            \"name\": \"get_best_drivers\",\n",
    "            \"strict\": True,\n",
    "            \"parameters\": {\n",
    "                \"type\": \"object\",\n",
    "                \"properties\": {\n",
    "                    \"drivers\": {\"type\": \"string\", \n",
    "                                \"enum\": list(df['Risk Driver'].unique())},\n",
    "                },\n",
    "                \"required\": [\"drivers\"],\n",
    "                \"additionalProperties\": False,\n",
    "            },\n",
    "        },\n",
    "    },\n",
    "]\n",
    "\n",
    "\n",
    "def extract_drivers(query):\n",
    "    response_dict = query.to_dict()\n",
    "    \n",
    "    drivers = []\n",
    "    for tool_call in response_dict['choices'][0]['message']['tool_calls']:\n",
    "        arguments = tool_call['function']['arguments']\n",
    "        driver = eval(arguments)['drivers']\n",
    "        drivers.append(driver)\n",
    "    return drivers"
   ]
  },
  {
   "cell_type": "markdown",
   "id": "03a00164-9126-4930-b2ab-31e9f6285377",
   "metadata": {},
   "source": [
    "#### C. Get the best 3 risk drivers"
   ]
  },
  {
   "cell_type": "code",
   "execution_count": 4,
   "id": "c7cccac7-2680-4f8d-9298-4430576a08b8",
   "metadata": {},
   "outputs": [
    {
     "data": {
      "text/plain": [
       "['Risk Driver E', 'Risk Driver C', 'Risk Driver I']"
      ]
     },
     "execution_count": 4,
     "metadata": {},
     "output_type": "execute_result"
    }
   ],
   "source": [
    "messages = [\n",
    "    {\"role\": \"user\", \"content\": \"Pick the 3 best risk drivers from the table below\"},\n",
    "    {\"role\": \"user\", \"content\": \"\\n\\nHere is the data:\\n\" + table_json}\n",
    "           ]\n",
    "      \n",
    "completion = client.chat.completions.create(\n",
    "    model=\"gpt-4o\",\n",
    "    messages=messages,\n",
    "    tools=tools,\n",
    "    tool_choice=\"required\"\n",
    ")\n",
    "\n",
    "# Get the drivers\n",
    "drivers_list = extract_drivers(completion)\n",
    "df['Best 3 risk drivers'] = df['Risk Driver'].isin(drivers_list)\n",
    "\n",
    "drivers_list"
   ]
  },
  {
   "cell_type": "markdown",
   "id": "1afa8dbc-a190-49c3-b357-93b7309d0a1e",
   "metadata": {},
   "source": [
    "#### D. Get the worst 3 risk drivers"
   ]
  },
  {
   "cell_type": "code",
   "execution_count": 5,
   "id": "bdebb57c-b591-4962-9af6-8944bd35a178",
   "metadata": {},
   "outputs": [
    {
     "data": {
      "text/plain": [
       "['Risk Driver D', 'Risk Driver H', 'Risk Driver J']"
      ]
     },
     "execution_count": 5,
     "metadata": {},
     "output_type": "execute_result"
    }
   ],
   "source": [
    "messages = [\n",
    "    {\"role\": \"user\", \"content\": \"Pick the 3 worst risk drivers from the table below\"},\n",
    "    {\"role\": \"user\", \"content\": \"\\n\\nHere is the data:\\n\" + table_json}\n",
    "           ]\n",
    "      \n",
    "completion = client.chat.completions.create(\n",
    "    model=\"gpt-4o\",\n",
    "    messages=messages,\n",
    "    tools=tools,\n",
    "    tool_choice=\"required\"\n",
    ")\n",
    "\n",
    "# Get the drivers\n",
    "drivers_list = extract_drivers(completion)\n",
    "df['Worst 3 risk drivers'] = df['Risk Driver'].isin(drivers_list)\n",
    "\n",
    "drivers_list"
   ]
  },
  {
   "cell_type": "markdown",
   "id": "9a72c1a6-9eb2-4c1a-8cd7-3e050e988272",
   "metadata": {},
   "source": [
    "#### E. Outcome"
   ]
  },
  {
   "cell_type": "code",
   "execution_count": 6,
   "id": "a907b781-9861-4c9f-8fbb-478174725cad",
   "metadata": {},
   "outputs": [
    {
     "data": {
      "text/html": [
       "<style type=\"text/css\">\n",
       "#T_5c2f1_row0_col0, #T_5c2f1_row0_col1, #T_5c2f1_row0_col2, #T_5c2f1_row0_col3, #T_5c2f1_row1_col0, #T_5c2f1_row1_col1, #T_5c2f1_row1_col2, #T_5c2f1_row1_col3, #T_5c2f1_row2_col0, #T_5c2f1_row2_col1, #T_5c2f1_row2_col2, #T_5c2f1_row2_col3 {\n",
       "  background-color: #90EE90;\n",
       "}\n",
       "#T_5c2f1_row7_col0, #T_5c2f1_row7_col1, #T_5c2f1_row7_col2, #T_5c2f1_row7_col3, #T_5c2f1_row8_col0, #T_5c2f1_row8_col1, #T_5c2f1_row8_col2, #T_5c2f1_row8_col3, #T_5c2f1_row9_col0, #T_5c2f1_row9_col1, #T_5c2f1_row9_col2, #T_5c2f1_row9_col3 {\n",
       "  background-color: red;\n",
       "}\n",
       "</style>\n",
       "<table id=\"T_5c2f1\">\n",
       "  <thead>\n",
       "    <tr>\n",
       "      <th class=\"blank level0\" >&nbsp;</th>\n",
       "      <th id=\"T_5c2f1_level0_col0\" class=\"col_heading level0 col0\" >Risk Driver</th>\n",
       "      <th id=\"T_5c2f1_level0_col1\" class=\"col_heading level0 col1\" >Somers D Outcome</th>\n",
       "      <th id=\"T_5c2f1_level0_col2\" class=\"col_heading level0 col2\" >Best 3 risk drivers</th>\n",
       "      <th id=\"T_5c2f1_level0_col3\" class=\"col_heading level0 col3\" >Worst 3 risk drivers</th>\n",
       "    </tr>\n",
       "  </thead>\n",
       "  <tbody>\n",
       "    <tr>\n",
       "      <th id=\"T_5c2f1_level0_row0\" class=\"row_heading level0 row0\" >0</th>\n",
       "      <td id=\"T_5c2f1_row0_col0\" class=\"data row0 col0\" >Risk Driver E</td>\n",
       "      <td id=\"T_5c2f1_row0_col1\" class=\"data row0 col1\" >40.0%</td>\n",
       "      <td id=\"T_5c2f1_row0_col2\" class=\"data row0 col2\" >True</td>\n",
       "      <td id=\"T_5c2f1_row0_col3\" class=\"data row0 col3\" >False</td>\n",
       "    </tr>\n",
       "    <tr>\n",
       "      <th id=\"T_5c2f1_level0_row1\" class=\"row_heading level0 row1\" >1</th>\n",
       "      <td id=\"T_5c2f1_row1_col0\" class=\"data row1 col0\" >Risk Driver C</td>\n",
       "      <td id=\"T_5c2f1_row1_col1\" class=\"data row1 col1\" >35.0%</td>\n",
       "      <td id=\"T_5c2f1_row1_col2\" class=\"data row1 col2\" >True</td>\n",
       "      <td id=\"T_5c2f1_row1_col3\" class=\"data row1 col3\" >False</td>\n",
       "    </tr>\n",
       "    <tr>\n",
       "      <th id=\"T_5c2f1_level0_row2\" class=\"row_heading level0 row2\" >2</th>\n",
       "      <td id=\"T_5c2f1_row2_col0\" class=\"data row2 col0\" >Risk Driver I</td>\n",
       "      <td id=\"T_5c2f1_row2_col1\" class=\"data row2 col1\" >33.0%</td>\n",
       "      <td id=\"T_5c2f1_row2_col2\" class=\"data row2 col2\" >True</td>\n",
       "      <td id=\"T_5c2f1_row2_col3\" class=\"data row2 col3\" >False</td>\n",
       "    </tr>\n",
       "    <tr>\n",
       "      <th id=\"T_5c2f1_level0_row3\" class=\"row_heading level0 row3\" >3</th>\n",
       "      <td id=\"T_5c2f1_row3_col0\" class=\"data row3 col0\" >Risk Driver G</td>\n",
       "      <td id=\"T_5c2f1_row3_col1\" class=\"data row3 col1\" >27.0%</td>\n",
       "      <td id=\"T_5c2f1_row3_col2\" class=\"data row3 col2\" >False</td>\n",
       "      <td id=\"T_5c2f1_row3_col3\" class=\"data row3 col3\" >False</td>\n",
       "    </tr>\n",
       "    <tr>\n",
       "      <th id=\"T_5c2f1_level0_row4\" class=\"row_heading level0 row4\" >4</th>\n",
       "      <td id=\"T_5c2f1_row4_col0\" class=\"data row4 col0\" >Risk Driver B</td>\n",
       "      <td id=\"T_5c2f1_row4_col1\" class=\"data row4 col1\" >22.0%</td>\n",
       "      <td id=\"T_5c2f1_row4_col2\" class=\"data row4 col2\" >False</td>\n",
       "      <td id=\"T_5c2f1_row4_col3\" class=\"data row4 col3\" >False</td>\n",
       "    </tr>\n",
       "    <tr>\n",
       "      <th id=\"T_5c2f1_level0_row5\" class=\"row_heading level0 row5\" >5</th>\n",
       "      <td id=\"T_5c2f1_row5_col0\" class=\"data row5 col0\" >Risk Driver F</td>\n",
       "      <td id=\"T_5c2f1_row5_col1\" class=\"data row5 col1\" >18.0%</td>\n",
       "      <td id=\"T_5c2f1_row5_col2\" class=\"data row5 col2\" >False</td>\n",
       "      <td id=\"T_5c2f1_row5_col3\" class=\"data row5 col3\" >False</td>\n",
       "    </tr>\n",
       "    <tr>\n",
       "      <th id=\"T_5c2f1_level0_row6\" class=\"row_heading level0 row6\" >6</th>\n",
       "      <td id=\"T_5c2f1_row6_col0\" class=\"data row6 col0\" >Risk Driver A</td>\n",
       "      <td id=\"T_5c2f1_row6_col1\" class=\"data row6 col1\" >15.0%</td>\n",
       "      <td id=\"T_5c2f1_row6_col2\" class=\"data row6 col2\" >False</td>\n",
       "      <td id=\"T_5c2f1_row6_col3\" class=\"data row6 col3\" >False</td>\n",
       "    </tr>\n",
       "    <tr>\n",
       "      <th id=\"T_5c2f1_level0_row7\" class=\"row_heading level0 row7\" >7</th>\n",
       "      <td id=\"T_5c2f1_row7_col0\" class=\"data row7 col0\" >Risk Driver J</td>\n",
       "      <td id=\"T_5c2f1_row7_col1\" class=\"data row7 col1\" >12.0%</td>\n",
       "      <td id=\"T_5c2f1_row7_col2\" class=\"data row7 col2\" >False</td>\n",
       "      <td id=\"T_5c2f1_row7_col3\" class=\"data row7 col3\" >True</td>\n",
       "    </tr>\n",
       "    <tr>\n",
       "      <th id=\"T_5c2f1_level0_row8\" class=\"row_heading level0 row8\" >8</th>\n",
       "      <td id=\"T_5c2f1_row8_col0\" class=\"data row8 col0\" >Risk Driver H</td>\n",
       "      <td id=\"T_5c2f1_row8_col1\" class=\"data row8 col1\" >9.0%</td>\n",
       "      <td id=\"T_5c2f1_row8_col2\" class=\"data row8 col2\" >False</td>\n",
       "      <td id=\"T_5c2f1_row8_col3\" class=\"data row8 col3\" >True</td>\n",
       "    </tr>\n",
       "    <tr>\n",
       "      <th id=\"T_5c2f1_level0_row9\" class=\"row_heading level0 row9\" >9</th>\n",
       "      <td id=\"T_5c2f1_row9_col0\" class=\"data row9 col0\" >Risk Driver D</td>\n",
       "      <td id=\"T_5c2f1_row9_col1\" class=\"data row9 col1\" >5.0%</td>\n",
       "      <td id=\"T_5c2f1_row9_col2\" class=\"data row9 col2\" >False</td>\n",
       "      <td id=\"T_5c2f1_row9_col3\" class=\"data row9 col3\" >True</td>\n",
       "    </tr>\n",
       "  </tbody>\n",
       "</table>\n"
      ],
      "text/plain": [
       "<pandas.io.formats.style.Styler at 0x2c8df01c2d0>"
      ]
     },
     "execution_count": 6,
     "metadata": {},
     "output_type": "execute_result"
    }
   ],
   "source": [
    "# Function to apply background colors\n",
    "def highlight_rows(row):\n",
    "    if row['Best 3 risk drivers']:\n",
    "        return ['background-color: #90EE90' for _ in row]\n",
    "    elif row['Worst 3 risk drivers']:\n",
    "        return ['background-color: red' for _ in row]\n",
    "    else:\n",
    "        return ['' for _ in row]\n",
    "\n",
    "# Apply the highlighting\n",
    "df.style.apply(highlight_rows, axis=1).format({'Somers D Outcome': '{:.1%}'})"
   ]
  }
 ],
 "metadata": {
  "kernelspec": {
   "display_name": "Python 3 (ipykernel)",
   "language": "python",
   "name": "python3"
  },
  "language_info": {
   "codemirror_mode": {
    "name": "ipython",
    "version": 3
   },
   "file_extension": ".py",
   "mimetype": "text/x-python",
   "name": "python",
   "nbconvert_exporter": "python",
   "pygments_lexer": "ipython3",
   "version": "3.11.9"
  }
 },
 "nbformat": 4,
 "nbformat_minor": 5
}
