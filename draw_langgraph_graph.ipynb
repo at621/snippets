{
 "cells": [
  {
   "cell_type": "code",
   "execution_count": 4,
   "id": "4e33ce58-2ce3-4d65-a9e1-5d0f8d50debb",
   "metadata": {},
   "outputs": [
    {
     "name": "stdout",
     "output_type": "stream",
     "text": [
      "--- Running the LangGraph ---\n",
      "--- Executing Step One ---\n",
      "--- Executing Step Two ---\n",
      "--- Executing Step Three ---\n",
      "\n",
      "Final State:\n",
      "{'steps': ['Processed by One', 'Processed by Two', 'Processed by Three']}\n",
      "---------------------------\n",
      "\n",
      "--- Generating Graph Visualization ---\n"
     ]
    },
    {
     "data": {
      "text/markdown": [
       "```mermaid\n",
       "---\n",
       "config:\n",
       "  flowchart:\n",
       "    curve: linear\n",
       "---\n",
       "graph TD;\n",
       "\t__start__([<p>__start__</p>]):::first\n",
       "\tstep_one(step_one)\n",
       "\tstep_two(step_two)\n",
       "\tstep_three(step_three)\n",
       "\t__end__([<p>__end__</p>]):::last\n",
       "\t__start__ --> step_one;\n",
       "\tstep_one --> step_two;\n",
       "\tstep_two --> step_three;\n",
       "\tstep_three --> __end__;\n",
       "\tclassDef default fill:#f2f0ff,line-height:1.2\n",
       "\tclassDef first fill-opacity:0\n",
       "\tclassDef last fill:#bfb6fc\n",
       "\n",
       "```"
      ],
      "text/plain": [
       "<IPython.core.display.Markdown object>"
      ]
     },
     "metadata": {},
     "output_type": "display_data"
    }
   ],
   "source": [
    "# Corrected import for the main graph class\n",
    "from langgraph.graph import StateGraph\n",
    "from IPython.display import display, Markdown\n",
    "from typing import TypedDict, List\n",
    "\n",
    "# It's best practice to define a state schema for your graph.\n",
    "class GraphState(TypedDict):\n",
    "    \"\"\"\n",
    "    Represents the state of our graph.\n",
    "\n",
    "    Attributes:\n",
    "        steps: A list of strings to track the steps executed.\n",
    "    \"\"\"\n",
    "    steps: List[str]\n",
    "\n",
    "\n",
    "# Define the individual nodes/steps\n",
    "def step_one(state: GraphState) -> GraphState:\n",
    "    \"\"\"\n",
    "    First step in the process. Appends its name to the steps list.\n",
    "    \"\"\"\n",
    "    steps = state.get(\"steps\", [])\n",
    "    steps.append(\"Processed by One\")\n",
    "    return {\"steps\": steps}\n",
    "\n",
    "def step_two(state: GraphState) -> GraphState:\n",
    "    \"\"\"\n",
    "    Second step in the process. Appends its name to the steps list.\n",
    "    \"\"\"\n",
    "    steps = state.get(\"steps\", [])\n",
    "    steps.append(\"Processed by Two\")\n",
    "    return {\"steps\": steps}\n",
    "\n",
    "def step_three(state: GraphState) -> GraphState:\n",
    "    \"\"\"\n",
    "    Third and final step. Appends its name to the steps list.\n",
    "    \"\"\"\n",
    "    steps = state.get(\"steps\", [])\n",
    "    steps.append(\"Processed by Three\")\n",
    "    return {\"steps\": steps}\n",
    "\n",
    "# 1. Initialize the StateGraph with the state's structure\n",
    "workflow = StateGraph(GraphState)\n",
    "\n",
    "# 2. Add the nodes to the graph\n",
    "workflow.add_node(\"step_one\", step_one)\n",
    "workflow.add_node(\"step_two\", step_two)\n",
    "workflow.add_node(\"step_three\", step_three)\n",
    "\n",
    "# 3. Define the sequence of edges\n",
    "workflow.add_edge(\"step_one\", \"step_two\")\n",
    "workflow.add_edge(\"step_two\", \"step_three\")\n",
    "\n",
    "# 4. Set the entry and exit points\n",
    "workflow.set_entry_point(\"step_one\")\n",
    "workflow.set_finish_point(\"step_three\")\n",
    "\n",
    "# 5. Compile the graph into a runnable application\n",
    "app = workflow.compile()\n",
    "\n",
    "# --- Run the graph to see the output ---\n",
    "initial_state = {\"steps\": []}\n",
    "final_state = app.invoke(initial_state)\n",
    "\n",
    "# Get the Mermaid.js definition of the graph as a string\n",
    "mermaid_definition = app.get_graph().draw_mermaid()\n",
    "display(Markdown(f\"```mermaid\\n{mermaid_definition}\\n```\"))"
   ]
  }
 ],
 "metadata": {
  "kernelspec": {
   "display_name": "Python 3 (ipykernel)",
   "language": "python",
   "name": "python3"
  },
  "language_info": {
   "codemirror_mode": {
    "name": "ipython",
    "version": 3
   },
   "file_extension": ".py",
   "mimetype": "text/x-python",
   "name": "python",
   "nbconvert_exporter": "python",
   "pygments_lexer": "ipython3",
   "version": "3.13.1"
  }
 },
 "nbformat": 4,
 "nbformat_minor": 5
}
