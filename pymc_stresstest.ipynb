{
  "nbformat": 4,
  "nbformat_minor": 0,
  "metadata": {
    "colab": {
      "provenance": []
    },
    "kernelspec": {
      "name": "python3",
      "display_name": "Python 3"
    },
    "language_info": {
      "name": "python"
    },
    "widgets": {
      "application/vnd.jupyter.widget-state+json": {
        "da8751c93f114fe7b39911feba9a43f2": {
          "model_module": "@jupyter-widgets/output",
          "model_name": "OutputModel",
          "model_module_version": "1.0.0",
          "state": {
            "_dom_classes": [],
            "_model_module": "@jupyter-widgets/output",
            "_model_module_version": "1.0.0",
            "_model_name": "OutputModel",
            "_view_count": null,
            "_view_module": "@jupyter-widgets/output",
            "_view_module_version": "1.0.0",
            "_view_name": "OutputView",
            "layout": "IPY_MODEL_7ebca1c1a4c843849ef2edf41ce3f2d3",
            "msg_id": "",
            "outputs": [
              {
                "output_type": "display_data",
                "data": {
                  "text/plain": "Sampling chain 0, 0 divergences \u001b[32m━━━━━━━━━━━━━━━━━━━━━━━━━━━━━━━━━━━━━━━━\u001b[0m \u001b[35m100%\u001b[0m \u001b[36m0:00:00\u001b[0m / \u001b[33m0:00:12\u001b[0m\n",
                  "text/html": "<pre style=\"white-space:pre;overflow-x:auto;line-height:normal;font-family:Menlo,'DejaVu Sans Mono',consolas,'Courier New',monospace\">Sampling chain 0, 0 divergences <span style=\"color: #008000; text-decoration-color: #008000\">━━━━━━━━━━━━━━━━━━━━━━━━━━━━━━━━━━━━━━━━</span> <span style=\"color: #800080; text-decoration-color: #800080\">100%</span> <span style=\"color: #008080; text-decoration-color: #008080\">0:00:00</span> / <span style=\"color: #808000; text-decoration-color: #808000\">0:00:12</span>\n</pre>\n"
                },
                "metadata": {}
              }
            ]
          }
        },
        "7ebca1c1a4c843849ef2edf41ce3f2d3": {
          "model_module": "@jupyter-widgets/base",
          "model_name": "LayoutModel",
          "model_module_version": "1.2.0",
          "state": {
            "_model_module": "@jupyter-widgets/base",
            "_model_module_version": "1.2.0",
            "_model_name": "LayoutModel",
            "_view_count": null,
            "_view_module": "@jupyter-widgets/base",
            "_view_module_version": "1.2.0",
            "_view_name": "LayoutView",
            "align_content": null,
            "align_items": null,
            "align_self": null,
            "border": null,
            "bottom": null,
            "display": null,
            "flex": null,
            "flex_flow": null,
            "grid_area": null,
            "grid_auto_columns": null,
            "grid_auto_flow": null,
            "grid_auto_rows": null,
            "grid_column": null,
            "grid_gap": null,
            "grid_row": null,
            "grid_template_areas": null,
            "grid_template_columns": null,
            "grid_template_rows": null,
            "height": null,
            "justify_content": null,
            "justify_items": null,
            "left": null,
            "margin": null,
            "max_height": null,
            "max_width": null,
            "min_height": null,
            "min_width": null,
            "object_fit": null,
            "object_position": null,
            "order": null,
            "overflow": null,
            "overflow_x": null,
            "overflow_y": null,
            "padding": null,
            "right": null,
            "top": null,
            "visibility": null,
            "width": null
          }
        },
        "711f7712e4ea4d489cd0cadcdc0baa51": {
          "model_module": "@jupyter-widgets/output",
          "model_name": "OutputModel",
          "model_module_version": "1.0.0",
          "state": {
            "_dom_classes": [],
            "_model_module": "@jupyter-widgets/output",
            "_model_module_version": "1.0.0",
            "_model_name": "OutputModel",
            "_view_count": null,
            "_view_module": "@jupyter-widgets/output",
            "_view_module_version": "1.0.0",
            "_view_name": "OutputView",
            "layout": "IPY_MODEL_5432f17a5fd54c4089e8834bec36fd24",
            "msg_id": "",
            "outputs": [
              {
                "output_type": "display_data",
                "data": {
                  "text/plain": "Sampling chain 1, 0 divergences \u001b[32m━━━━━━━━━━━━━━━━━━━━━━━━━━━━━━━━━━━━━━━━\u001b[0m \u001b[35m100%\u001b[0m \u001b[36m0:00:00\u001b[0m / \u001b[33m0:00:12\u001b[0m\n",
                  "text/html": "<pre style=\"white-space:pre;overflow-x:auto;line-height:normal;font-family:Menlo,'DejaVu Sans Mono',consolas,'Courier New',monospace\">Sampling chain 1, 0 divergences <span style=\"color: #008000; text-decoration-color: #008000\">━━━━━━━━━━━━━━━━━━━━━━━━━━━━━━━━━━━━━━━━</span> <span style=\"color: #800080; text-decoration-color: #800080\">100%</span> <span style=\"color: #008080; text-decoration-color: #008080\">0:00:00</span> / <span style=\"color: #808000; text-decoration-color: #808000\">0:00:12</span>\n</pre>\n"
                },
                "metadata": {}
              }
            ]
          }
        },
        "5432f17a5fd54c4089e8834bec36fd24": {
          "model_module": "@jupyter-widgets/base",
          "model_name": "LayoutModel",
          "model_module_version": "1.2.0",
          "state": {
            "_model_module": "@jupyter-widgets/base",
            "_model_module_version": "1.2.0",
            "_model_name": "LayoutModel",
            "_view_count": null,
            "_view_module": "@jupyter-widgets/base",
            "_view_module_version": "1.2.0",
            "_view_name": "LayoutView",
            "align_content": null,
            "align_items": null,
            "align_self": null,
            "border": null,
            "bottom": null,
            "display": null,
            "flex": null,
            "flex_flow": null,
            "grid_area": null,
            "grid_auto_columns": null,
            "grid_auto_flow": null,
            "grid_auto_rows": null,
            "grid_column": null,
            "grid_gap": null,
            "grid_row": null,
            "grid_template_areas": null,
            "grid_template_columns": null,
            "grid_template_rows": null,
            "height": null,
            "justify_content": null,
            "justify_items": null,
            "left": null,
            "margin": null,
            "max_height": null,
            "max_width": null,
            "min_height": null,
            "min_width": null,
            "object_fit": null,
            "object_position": null,
            "order": null,
            "overflow": null,
            "overflow_x": null,
            "overflow_y": null,
            "padding": null,
            "right": null,
            "top": null,
            "visibility": null,
            "width": null
          }
        }
      }
    }
  },
  "cells": [
    {
      "cell_type": "markdown",
      "source": [
        "# Bayesian stress testing\n",
        "\n",
        "This notebook performs **Bayesian stress testing** on a small portfolio of loans using user-provided priors and observed data. The key objectives of the code are:\n",
        "\n",
        "- **User-Provided Priors**: Allows users to input their own prior beliefs for the **Probability of Default (PD)** and **Loss Given Default (LGD)**.\n",
        "- **Data Incorporation**: Updates these priors with observed data (number of defaults) to obtain posterior distributions through Bayesian inference.\n",
        "- **Expected Loss Calculations**: Calculates expected losses under both baseline (median values) and stressed (95th percentile values) scenarios based on the posterior distributions.\n",
        "- **Visualization**: Provides visualizations of the posterior distributions to understand how the priors are updated by the data.\n",
        "- **Flexibility**: Enables users to adjust their assumptions and observe the impact on expected losses, enhancing risk assessment and decision-making.\n",
        "\n",
        "## Key Components of the Code\n",
        "\n",
        "- **Function `bayesian_stress_test`**:\n",
        "  - **Inputs**:\n",
        "    - `n_loans`: Total number of loans.\n",
        "    - `n_defaults`: Number of observed defaults (data input).\n",
        "    - `prior_params_pd`: Tuple `(alpha_pd, beta_pd)` representing the user-provided prior for PD.\n",
        "    - `prior_params_lgd`: Tuple `(alpha_lgd, beta_lgd)` representing the user-provided prior for LGD.\n",
        "    - `ead`: Exposure at Default per loan (default is \\$1,000,000).\n",
        "  - **Process**:\n",
        "    - Builds a Bayesian model incorporating the priors and observed data.\n",
        "    - Performs Markov Chain Monte Carlo (MCMC) sampling to obtain posterior distributions.\n",
        "    - Calculates baseline and stressed expected losses.\n",
        "  - **Outputs**:\n",
        "    - `trace`: Posterior samples for PD and LGD.\n",
        "    - `results`: Dictionary containing baseline and stressed PD, LGD, and expected losses.\n",
        "\n",
        "- **Error Suppression**:\n",
        "  - Suppresses specific OS error messages to ensure clean output.\n",
        "\n",
        "- **Example Usage**:\n",
        "  - Demonstrates how to input priors and observed data.\n",
        "  - Performs the stress test and displays results.\n",
        "  - Visualizes the posterior distributions of PD and LGD.\n",
        "\n",
        "## How to Use This Notebook\n",
        "\n",
        "1. **Define Observed Data**:\n",
        "   - Set the number of loans (`n_loans`) and the number of observed defaults (`n_defaults`).\n",
        "\n",
        "2. **Input Priors**:\n",
        "   - Specify your prior beliefs for PD and LGD by setting the `alpha` and `beta` parameters of the Beta distributions.\n",
        "\n",
        "3. **Run the Stress Test**:\n",
        "   - Call the `bayesian_stress_test` function with your inputs.\n",
        "   - Obtain the posterior distributions and expected losses.\n",
        "\n",
        "4. **Interpret Results**:\n",
        "   - Examine the baseline and stressed expected losses.\n",
        "   - Use the visualizations to understand how the data has updated your priors.\n",
        "\n",
        "5. **Adjust Assumptions**:\n",
        "   - Experiment with different priors or observed data.\n",
        "   - Observe how changes affect the expected losses and posterior distributions.\n",
        "\n",
        "## Purpose and Benefits\n",
        "\n",
        "- **Incorporates Expert Knowledge**: By allowing user-defined priors, the model incorporates expert opinions and beliefs.\n",
        "- **Data-Driven Updating**: Observed data refines the priors to produce informed posterior estimates.\n",
        "- **Risk Assessment**: Calculating expected losses under different scenarios aids in evaluating potential risks.\n",
        "- **Decision Support**: Provides a quantitative foundation for making informed credit risk management decisions.\n",
        "\n",
        "---\n",
        "\n",
        "*This Bayesian approach enables effective stress testing with limited data, combining expert judgment with statistical inference to enhance risk analysis and decision-making processes.*\n"
      ],
      "metadata": {
        "id": "NLHvGHNuw__O"
      }
    },
    {
      "cell_type": "code",
      "source": [
        "!pip install numpy==1.22.1 scipy==1.7.3 pymc"
      ],
      "metadata": {
        "id": "qu_QaJs0wcNR"
      },
      "execution_count": null,
      "outputs": []
    },
    {
      "cell_type": "markdown",
      "source": [],
      "metadata": {
        "id": "Bs4ynb3Awa4V"
      }
    },
    {
      "cell_type": "code",
      "source": [
        "# Import necessary libraries\n",
        "import pymc as pm\n",
        "import numpy as np\n",
        "import matplotlib.pyplot as plt\n",
        "import arviz as az\n",
        "import sys\n",
        "import contextlib\n",
        "import warnings\n",
        "import logging\n",
        "\n",
        "# Suppress warnings and specific error messages\n",
        "warnings.filterwarnings('ignore')\n",
        "logging.getLogger('theano').setLevel(logging.ERROR)\n",
        "\n",
        "@contextlib.contextmanager\n",
        "def suppress_specific_stderr(text):\n",
        "    class FilterStderr:\n",
        "        def __init__(self):\n",
        "            self.stderr = sys.stderr\n",
        "        def write(self, message):\n",
        "            if text not in message:\n",
        "                self.stderr.write(message)\n",
        "        def flush(self):\n",
        "            self.stderr.flush()\n",
        "    old_stderr = sys.stderr\n",
        "    sys.stderr = FilterStderr()\n",
        "    try:\n",
        "        yield\n",
        "    finally:\n",
        "        sys.stderr = old_stderr\n",
        "\n",
        "# Function to perform Bayesian stress test with observed LGD data\n",
        "def bayesian_stress_test_with_lgd_data(n_loans, n_defaults, prior_params_pd, prior_params_lgd, observed_lgds, ead=1_000_000):\n",
        "    \"\"\"\n",
        "    Performs Bayesian stress testing with user-provided priors and observed LGD data.\n",
        "\n",
        "    Parameters:\n",
        "    - n_loans: int, total number of loans\n",
        "    - n_defaults: int, number of observed defaults\n",
        "    - prior_params_pd: tuple, (alpha_pd, beta_pd) parameters for PD prior\n",
        "    - prior_params_lgd: tuple, (alpha_lgd, beta_lgd) parameters for LGD prior\n",
        "    - observed_lgds: list or array, observed LGD data (values between 0 and 1)\n",
        "    - ead: float, Exposure at Default per loan (default is 1,000,000)\n",
        "\n",
        "    Returns:\n",
        "    - trace: posterior trace from MCMC sampling\n",
        "    - results: dictionary containing baseline and stressed expected losses\n",
        "    \"\"\"\n",
        "    # Unpack prior parameters\n",
        "    alpha_prior_pd, beta_prior_pd = prior_params_pd\n",
        "    alpha_prior_lgd, beta_prior_lgd = prior_params_lgd\n",
        "\n",
        "    # Suppress specific error messages during model execution\n",
        "    with suppress_specific_stderr(\"cannot open shared object file\"):\n",
        "        # Build the model\n",
        "        with pm.Model() as model:\n",
        "            # Prior for PD\n",
        "            pd = pm.Beta('pd', alpha=alpha_prior_pd, beta=beta_prior_pd)\n",
        "\n",
        "            # Prior for LGD\n",
        "            lgd = pm.Beta('lgd', alpha=alpha_prior_lgd, beta=beta_prior_lgd)\n",
        "\n",
        "            # Likelihood for defaults (PD)\n",
        "            defaults_observed = pm.Binomial('defaults_observed', n=n_loans, p=pd, observed=n_defaults)\n",
        "\n",
        "            # Likelihood for observed LGDs using Beta distribution\n",
        "            # Adjust the scaling factor 'k' based on your data\n",
        "            k = 100  # Scaling factor for Beta distribution\n",
        "            lgd_observed = pm.Beta('lgd_observed', alpha=lgd * k, beta=(1 - lgd) * k, observed=observed_lgds)\n",
        "\n",
        "            # Sampling\n",
        "            trace = pm.sample(5000, tune=1000, target_accept=0.95, random_seed=42, return_inferencedata=True)\n",
        "\n",
        "    # Extract posterior samples\n",
        "    pd_samples = trace.posterior['pd'].values.flatten()\n",
        "    lgd_samples = trace.posterior['lgd'].values.flatten()\n",
        "\n",
        "    # Baseline Values (Median)\n",
        "    pd_median = np.percentile(pd_samples, 50)\n",
        "    lgd_median = np.percentile(lgd_samples, 50)\n",
        "\n",
        "    # Stressed Values (95th Percentile)\n",
        "    pd_95th = np.percentile(pd_samples, 95)\n",
        "    lgd_95th = np.percentile(lgd_samples, 95)\n",
        "\n",
        "    # Expected Loss Calculations\n",
        "    expected_loss_baseline = ead * pd_median * lgd_median\n",
        "    expected_loss_stressed = ead * pd_95th * lgd_95th\n",
        "\n",
        "    # Compile results\n",
        "    results = {\n",
        "        'Baseline PD (Median)': pd_median,\n",
        "        'Baseline LGD (Median)': lgd_median,\n",
        "        'Stressed PD (95th Percentile)': pd_95th,\n",
        "        'Stressed LGD (95th Percentile)': lgd_95th,\n",
        "        'Baseline Expected Loss': expected_loss_baseline,\n",
        "        'Stressed Expected Loss': expected_loss_stressed\n",
        "    }\n",
        "\n",
        "    return trace, results\n",
        "\n",
        "# Example usage of the function\n",
        "if __name__ == \"__main__\":\n",
        "    # Data\n",
        "    n_loans = 10           # Total number of loans\n",
        "    n_defaults = 3         # Number of observed defaults\n",
        "\n",
        "    # Observed LGDs from defaults\n",
        "    observed_lgds = [0.3, 0.2, 0.35]  # Replace with your actual observed LGD data\n",
        "\n",
        "    # User-provided priors for PD and LGD\n",
        "    # Prior for PD: User believes PD ≈ 2%\n",
        "    prior_params_pd = (2, 98)   # Alpha = 2, Beta = 98 (Mean PD ≈ 2%)\n",
        "\n",
        "    # Prior for LGD: User believes LGD ≈ 20%\n",
        "    prior_params_lgd = (2, 8)   # Alpha = 2, Beta = 8 (Mean LGD ≈ 20%)\n",
        "\n",
        "    # Perform Bayesian stress test with observed LGD data\n",
        "    trace, results = bayesian_stress_test_with_lgd_data(n_loans, n_defaults, prior_params_pd, prior_params_lgd, observed_lgds)\n",
        "\n",
        "    # Display results\n",
        "    print(\"Results with Observed LGD Data:\")\n",
        "    for key, value in results.items():\n",
        "        if 'Expected Loss' in key:\n",
        "            print(f\"{key}: ${value:,.2f}\")\n",
        "        else:\n",
        "            print(f\"{key}: {value:.4f}\")\n",
        "\n",
        "    # Visualize the posterior distributions\n",
        "    az.plot_posterior(trace, var_names=['pd', 'lgd'], hdi_prob=0.95)\n",
        "    plt.show()"
      ],
      "metadata": {
        "colab": {
          "base_uri": "https://localhost:8080/",
          "height": 667,
          "referenced_widgets": [
            "da8751c93f114fe7b39911feba9a43f2",
            "7ebca1c1a4c843849ef2edf41ce3f2d3",
            "711f7712e4ea4d489cd0cadcdc0baa51",
            "5432f17a5fd54c4089e8834bec36fd24"
          ]
        },
        "id": "-IYAU0V3zDj-",
        "outputId": "cb0a26e3-b927-4061-df31-958db075e53b"
      },
      "execution_count": 9,
      "outputs": [
        {
          "output_type": "display_data",
          "data": {
            "text/plain": [
              "Output()"
            ],
            "application/vnd.jupyter.widget-view+json": {
              "version_major": 2,
              "version_minor": 0,
              "model_id": "da8751c93f114fe7b39911feba9a43f2"
            }
          },
          "metadata": {}
        },
        {
          "output_type": "display_data",
          "data": {
            "text/plain": [],
            "text/html": [
              "<pre style=\"white-space:pre;overflow-x:auto;line-height:normal;font-family:Menlo,'DejaVu Sans Mono',consolas,'Courier New',monospace\"></pre>\n"
            ]
          },
          "metadata": {}
        },
        {
          "output_type": "display_data",
          "data": {
            "text/plain": [
              "Output()"
            ],
            "application/vnd.jupyter.widget-view+json": {
              "version_major": 2,
              "version_minor": 0,
              "model_id": "711f7712e4ea4d489cd0cadcdc0baa51"
            }
          },
          "metadata": {}
        },
        {
          "output_type": "display_data",
          "data": {
            "text/plain": [],
            "text/html": [
              "<pre style=\"white-space:pre;overflow-x:auto;line-height:normal;font-family:Menlo,'DejaVu Sans Mono',consolas,'Courier New',monospace\"></pre>\n"
            ]
          },
          "metadata": {}
        },
        {
          "output_type": "stream",
          "name": "stdout",
          "text": [
            "Results with Observed LGD Data:\n",
            "Baseline PD (Median): 0.0423\n",
            "Baseline LGD (Median): 0.2775\n",
            "Stressed PD (95th Percentile): 0.0834\n",
            "Stressed LGD (95th Percentile): 0.3194\n",
            "Baseline Expected Loss: $11,741.56\n",
            "Stressed Expected Loss: $26,627.24\n"
          ]
        },
        {
          "output_type": "display_data",
          "data": {
            "text/plain": [
              "<Figure size 1472x552 with 2 Axes>"
            ],
            "image/png": "[encoded data removed]"
          },
          "metadata": {}
        }
      ]
    }
  ]
}