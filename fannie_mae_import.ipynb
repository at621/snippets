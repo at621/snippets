{
 "cells": [
  {
   "cell_type": "markdown",
   "id": "d078eecb-f24f-438f-bcf6-bff4ffcbbe65",
   "metadata": {},
   "source": [
    "### Prepare Fannie Mae Single Family mortgage dataset\n",
    "\n",
    "**Intoduction**  \n",
    "The initial population of mortgage loans in the primary dataset included Fannie Mae acquisitions between January 1, 2000 and March 31, 2012 with corresponding monthly performance data as of December 31, 2012.\n",
    "\n",
    "The compressed dataset is about 50GB.\n",
    "\n",
    "**Main steps**\n",
    "- Download data from https://datadynamics.fanniemae.com/data-dynamics/#/reportMenu;category=HP\n",
    "- Join datasets\n",
    "- Create default flag\n",
    "\n",
    "**Main references**\n",
    "- Introduction: https://capitalmarkets.fanniemae.com/credit-risk-transfer/single-family-credit-risk-transfer/fannie-mae-single-family-loan-performance-data\n",
    "- Data dictionary: https://capitalmarkets.fanniemae.com/media/20926/display\n",
    "- Data preparation: https://github.com/ferrarisf50/Fannie-Mae-single-family-mortgage-loan-data/blob/master/Predict_default.ipynb\n"
   ]
  },
  {
   "cell_type": "markdown",
   "id": "37ff3104-08b8-4f46-a70c-f6bce31783d5",
   "metadata": {},
   "source": [
    "#### A. Import dataset"
   ]
  },
  {
   "cell_type": "code",
   "execution_count": 12,
   "id": "ac49623c-40ff-4c7b-9811-4b0d3244713e",
   "metadata": {},
   "outputs": [],
   "source": [
    "import os, glob, csv\n",
    "from pyspark.sql import SparkSession\n",
    "from tqdm import tqdm\n",
    "import pandas as pd\n",
    "\n",
    "from pyspark.sql.functions import col, when\n",
    "from pyspark.sql.window import Window\n",
    "from pyspark.sql.functions import row_number\n",
    "\n",
    "# Initialize a Spark session and set options\n",
    "spark = SparkSession.builder.appName(\"GetFannieMaeDataset\").getOrCreate()"
   ]
  },
  {
   "cell_type": "code",
   "execution_count": 2,
   "id": "74931aa3-6d3f-4bb1-9bfe-a7df7bdda19d",
   "metadata": {},
   "outputs": [
    {
     "data": {
      "text/plain": [
       "108"
      ]
     },
     "execution_count": 2,
     "metadata": {},
     "output_type": "execute_result"
    }
   ],
   "source": [
    "headers = [\n",
    "    \"POOL_ID\",\n",
    "    \"LOAN_ID\",\n",
    "    \"ACT_PERIOD\",\n",
    "    \"CHANNEL\",\n",
    "    \"SELLER\",\n",
    "    \"SERVICER\",\n",
    "    \"MASTER_SERVICER\",\n",
    "    \"ORIG_RATE\",\n",
    "    \"CURR_RATE\",\n",
    "    \"ORIG_UPB\",\n",
    "    \"ISSUANCE_UPB\",\n",
    "    \"CURRENT_UPB\",\n",
    "    \"ORIG_TERM\",\n",
    "    \"ORIG_DATE\",\n",
    "    \"FIRST_PAY\",\n",
    "    \"LOAN_AGE\",\n",
    "    \"REM_MONTHS\",\n",
    "    \"ADJ_REM_MONTHS\",\n",
    "    \"MATR_DT\",\n",
    "    \"OLTV\",\n",
    "    \"OCLTV\",\n",
    "    \"NUM_BO\",\n",
    "    \"DTI\",\n",
    "    \"CSCORE_B\",\n",
    "    \"CSCORE_C\",\n",
    "    \"FIRST_FLAG\",\n",
    "    \"PURPOSE\",\n",
    "    \"PROP\",\n",
    "    \"NO_UNITS\",\n",
    "    \"OCC_STAT\",\n",
    "    \"STATE\",\n",
    "    \"MSA\",\n",
    "    \"ZIP\",\n",
    "    \"MI_PCT\",\n",
    "    \"PRODUCT\",\n",
    "    \"PPMT_FLG\",\n",
    "    \"IO\",\n",
    "    \"FIRST_PAY_IO\",\n",
    "    \"MNTHS_TO_AMTZ_IO\",\n",
    "    \"DLQ_STATUS\",\n",
    "    \"PMT_HISTORY\",\n",
    "    \"MOD_FLAG\",\n",
    "    \"MI_CANCEL_FLAG\",\n",
    "    \"Zero_Bal_Code\",\n",
    "    \"ZB_DTE\",\n",
    "    \"LAST_UPB\",\n",
    "    \"RPRCH_DTE\",\n",
    "    \"CURR_SCHD_PRNCPL\",\n",
    "    \"TOT_SCHD_PRNCPL\",\n",
    "    \"UNSCHD_PRNCPL_CURR\",\n",
    "    \"LAST_PAID_INSTALLMENT_DATE\",\n",
    "    \"FORECLOSURE_DATE\",\n",
    "    \"DISPOSITION_DATE\",\n",
    "    \"FORECLOSURE_COSTS\",\n",
    "    \"PROPERTY_PRESERVATION_AND_REPAIR_COSTS\",\n",
    "    \"ASSET_RECOVERY_COSTS\",\n",
    "    \"MISCELLANEOUS_HOLDING_EXPENSES_AND_CREDITS\",\n",
    "    \"ASSOCIATED_TAXES_FOR_HOLDING_PROPERTY\",\n",
    "    \"NET_SALES_PROCEEDS\",\n",
    "    \"CREDIT_ENHANCEMENT_PROCEEDS\",\n",
    "    \"REPURCHASES_MAKE_WHOLE_PROCEEDS\",\n",
    "    \"OTHER_FORECLOSURE_PROCEEDS\",\n",
    "    \"NON_INTEREST_BEARING_UPB\",\n",
    "    \"PRINCIPAL_FORGIVENESS_AMOUNT\",\n",
    "    \"ORIGINAL_LIST_START_DATE\",\n",
    "    \"ORIGINAL_LIST_PRICE\",\n",
    "    \"CURRENT_LIST_START_DATE\",\n",
    "    \"CURRENT_LIST_PRICE\",\n",
    "    \"ISSUE_SCOREB\",\n",
    "    \"ISSUE_SCOREC\",\n",
    "    \"CURR_SCOREB\",\n",
    "    \"CURR_SCOREC\",\n",
    "    \"MI_TYPE\",\n",
    "    \"SERV_IND\",\n",
    "    \"CURRENT_PERIOD_MODIFICATION_LOSS_AMOUNT\",\n",
    "    \"CUMULATIVE_MODIFICATION_LOSS_AMOUNT\",\n",
    "    \"CURRENT_PERIOD_CREDIT_EVENT_NET_GAIN_OR_LOSS\",\n",
    "    \"CUMULATIVE_CREDIT_EVENT_NET_GAIN_OR_LOSS\",\n",
    "    \"HOMEREADY_PROGRAM_INDICATOR\",\n",
    "    \"FORECLOSURE_PRINCIPAL_WRITE_OFF_AMOUNT\",\n",
    "    \"RELOCATION_MORTGAGE_INDICATOR\",\n",
    "    \"ZERO_BALANCE_CODE_CHANGE_DATE\",\n",
    "    \"LOAN_HOLDBACK_INDICATOR\",\n",
    "    \"LOAN_HOLDBACK_EFFECTIVE_DATE\",\n",
    "    \"DELINQUENT_ACCRUED_INTEREST\",\n",
    "    \"PROPERTY_INSPECTION_WAIVER_INDICATOR\",\n",
    "    \"HIGH_BALANCE_LOAN_INDICATOR\",\n",
    "    \"ARM_5_YR_INDICATOR\",\n",
    "    \"ARM_PRODUCT_TYPE\",\n",
    "    \"MONTHS_UNTIL_FIRST_PAYMENT_RESET\",\n",
    "    \"MONTHS_BETWEEN_SUBSEQUENT_PAYMENT_RESET\",\n",
    "    \"INTEREST_RATE_CHANGE_DATE\",\n",
    "    \"PAYMENT_CHANGE_DATE\",\n",
    "    \"ARM_INDEX\",\n",
    "    \"ARM_CAP_STRUCTURE\",\n",
    "    \"INITIAL_INTEREST_RATE_CAP\",\n",
    "    \"PERIODIC_INTEREST_RATE_CAP\",\n",
    "    \"LIFETIME_INTEREST_RATE_CAP\",\n",
    "    \"MARGIN\",\n",
    "    \"BALLOON_INDICATOR\",\n",
    "    \"PLAN_NUMBER\",\n",
    "    \"FORBEARANCE_INDICATOR\",\n",
    "    \"HIGH_LOAN_TO_VALUE_HLTV_REFINANCE_OPTION_INDICATOR\",\n",
    "    \"DEAL_NAME\",\n",
    "    \"RE_PROCS_FLAG\",\n",
    "    \"ADR_TYPE\",\n",
    "    \"ADR_COUNT\",\n",
    "    \"ADR_UPB\",\n",
    "    # \"PAYMENT_DEFERRAL_MOD_EVENT_FLAG\",\n",
    "    # \"INTEREST_BEARING_UPB\",\n",
    "]\n",
    "\n",
    "len(headers)"
   ]
  },
  {
   "cell_type": "code",
   "execution_count": 13,
   "id": "0b0c29b2-c319-41d6-9a1b-79b05e768d4f",
   "metadata": {},
   "outputs": [
    {
     "name": "stderr",
     "output_type": "stream",
     "text": [
      "Processing CSV files: 100%|███████████████████████████████████████████████████████████████████████████████████████████████████████████████████████████████████████████████████████| 4/4 [09:15<00:00, 138.99s/it]\n"
     ]
    }
   ],
   "source": [
    "# Get list of CSV files\n",
    "csv_files = glob.glob(\"C:\\\\projects\\\\risk_datasets\\\\data\\\\*.csv\")\n",
    "\n",
    "# Output path\n",
    "output_path = \"C:\\\\projects\\\\risk_datasets\\\\final_result.csv\"\n",
    "\n",
    "# Write the headers to the output file\n",
    "with open(output_path, 'w', newline='') as f_out:\n",
    "    writer = csv.writer(f_out, delimiter='|')\n",
    "    writer.writerow(headers)\n",
    "\n",
    "# Function to read a CSV file and append its content to the output file\n",
    "def append_csv_to_output(file_path, output_path):\n",
    "    with open(file_path, 'r') as f_in:\n",
    "        reader = csv.reader(f_in, delimiter='|')\n",
    "        with open(output_path, 'a', newline='') as f_out:\n",
    "            writer = csv.writer(f_out, delimiter='|')\n",
    "            for row in reader:\n",
    "                writer.writerow(row)\n",
    "\n",
    "# Loop through the CSV files and append them to the output CSV\n",
    "for file in tqdm(csv_files, desc=\"Processing CSV files\"):\n",
    "    append_csv_to_output(file, output_path)"
   ]
  },
  {
   "cell_type": "markdown",
   "id": "9637ff44-71cc-400d-b436-1827984f2f1a",
   "metadata": {},
   "source": [
    "#### B. Get a sample from the dataset"
   ]
  },
  {
   "cell_type": "code",
   "execution_count": 17,
   "id": "e1344cd1-a9e2-4214-a876-337a773a3e3c",
   "metadata": {
    "scrolled": true
   },
   "outputs": [
    {
     "name": "stdout",
     "output_type": "stream",
     "text": [
      "+-------+------------+----------+-------+------------------+--------------------+---------------+---------+---------+--------+------------+-----------+---------+---------+---------+--------+----------+--------------+-------+----+-----+------+---+--------+--------+----------+-------+----+--------+--------+-----+-----+---+------+-------+--------+---+------------+----------------+----------+-----------+--------+--------------+-------------+------+--------+---------+----------------+---------------+------------------+--------------------------+----------------+----------------+-----------------+--------------------------------------+--------------------+------------------------------------------+-------------------------------------+------------------+---------------------------+-------------------------------+--------------------------+------------------------+----------------------------+------------------------+-------------------+-----------------------+------------------+------------+------------+-----------+-----------+-------+--------+---------------------------------------+-----------------------------------+--------------------------------------------+----------------------------------------+---------------------------+--------------------------------------+-----------------------------+-----------------------------+-----------------------+----------------------------+---------------------------+------------------------------------+---------------------------+------------------+----------------+--------------------------------+---------------------------------------+-------------------------+-------------------+---------+-----------------+-------------------------+--------------------------+--------------------------+------+-----------------+-----------+---------------------+--------------------------------------------------+---------+-------------+--------+---------+-------+\n",
      "|POOL_ID|     LOAN_ID|ACT_PERIOD|CHANNEL|            SELLER|            SERVICER|MASTER_SERVICER|ORIG_RATE|CURR_RATE|ORIG_UPB|ISSUANCE_UPB|CURRENT_UPB|ORIG_TERM|ORIG_DATE|FIRST_PAY|LOAN_AGE|REM_MONTHS|ADJ_REM_MONTHS|MATR_DT|OLTV|OCLTV|NUM_BO|DTI|CSCORE_B|CSCORE_C|FIRST_FLAG|PURPOSE|PROP|NO_UNITS|OCC_STAT|STATE|  MSA|ZIP|MI_PCT|PRODUCT|PPMT_FLG| IO|FIRST_PAY_IO|MNTHS_TO_AMTZ_IO|DLQ_STATUS|PMT_HISTORY|MOD_FLAG|MI_CANCEL_FLAG|Zero_Bal_Code|ZB_DTE|LAST_UPB|RPRCH_DTE|CURR_SCHD_PRNCPL|TOT_SCHD_PRNCPL|UNSCHD_PRNCPL_CURR|LAST_PAID_INSTALLMENT_DATE|FORECLOSURE_DATE|DISPOSITION_DATE|FORECLOSURE_COSTS|PROPERTY_PRESERVATION_AND_REPAIR_COSTS|ASSET_RECOVERY_COSTS|MISCELLANEOUS_HOLDING_EXPENSES_AND_CREDITS|ASSOCIATED_TAXES_FOR_HOLDING_PROPERTY|NET_SALES_PROCEEDS|CREDIT_ENHANCEMENT_PROCEEDS|REPURCHASES_MAKE_WHOLE_PROCEEDS|OTHER_FORECLOSURE_PROCEEDS|NON_INTEREST_BEARING_UPB|PRINCIPAL_FORGIVENESS_AMOUNT|ORIGINAL_LIST_START_DATE|ORIGINAL_LIST_PRICE|CURRENT_LIST_START_DATE|CURRENT_LIST_PRICE|ISSUE_SCOREB|ISSUE_SCOREC|CURR_SCOREB|CURR_SCOREC|MI_TYPE|SERV_IND|CURRENT_PERIOD_MODIFICATION_LOSS_AMOUNT|CUMULATIVE_MODIFICATION_LOSS_AMOUNT|CURRENT_PERIOD_CREDIT_EVENT_NET_GAIN_OR_LOSS|CUMULATIVE_CREDIT_EVENT_NET_GAIN_OR_LOSS|HOMEREADY_PROGRAM_INDICATOR|FORECLOSURE_PRINCIPAL_WRITE_OFF_AMOUNT|RELOCATION_MORTGAGE_INDICATOR|ZERO_BALANCE_CODE_CHANGE_DATE|LOAN_HOLDBACK_INDICATOR|LOAN_HOLDBACK_EFFECTIVE_DATE|DELINQUENT_ACCRUED_INTEREST|PROPERTY_INSPECTION_WAIVER_INDICATOR|HIGH_BALANCE_LOAN_INDICATOR|ARM_5_YR_INDICATOR|ARM_PRODUCT_TYPE|MONTHS_UNTIL_FIRST_PAYMENT_RESET|MONTHS_BETWEEN_SUBSEQUENT_PAYMENT_RESET|INTEREST_RATE_CHANGE_DATE|PAYMENT_CHANGE_DATE|ARM_INDEX|ARM_CAP_STRUCTURE|INITIAL_INTEREST_RATE_CAP|PERIODIC_INTEREST_RATE_CAP|LIFETIME_INTEREST_RATE_CAP|MARGIN|BALLOON_INDICATOR|PLAN_NUMBER|FORBEARANCE_INDICATOR|HIGH_LOAN_TO_VALUE_HLTV_REFINANCE_OPTION_INDICATOR|DEAL_NAME|RE_PROCS_FLAG|ADR_TYPE|ADR_COUNT|ADR_UPB|\n",
      "+-------+------------+----------+-------+------------------+--------------------+---------------+---------+---------+--------+------------+-----------+---------+---------+---------+--------+----------+--------------+-------+----+-----+------+---+--------+--------+----------+-------+----+--------+--------+-----+-----+---+------+-------+--------+---+------------+----------------+----------+-----------+--------+--------------+-------------+------+--------+---------+----------------+---------------+------------------+--------------------------+----------------+----------------+-----------------+--------------------------------------+--------------------+------------------------------------------+-------------------------------------+------------------+---------------------------+-------------------------------+--------------------------+------------------------+----------------------------+------------------------+-------------------+-----------------------+------------------+------------+------------+-----------+-----------+-------+--------+---------------------------------------+-----------------------------------+--------------------------------------------+----------------------------------------+---------------------------+--------------------------------------+-----------------------------+-----------------------------+-----------------------+----------------------------+---------------------------+------------------------------------+---------------------------+------------------+----------------+--------------------------------+---------------------------------------+-------------------------+-------------------+---------+-----------------+-------------------------+--------------------------+--------------------------+------+-----------------+-----------+---------------------+--------------------------------------------------+---------+-------------+--------+---------+-------+\n",
      "|   NULL|100000778481|    112006|      C|Citimortgage, Inc.|Citimortgage Asse...|           NULL|      6.0|      6.0| 92000.0|        NULL|        0.0|      360|   102006|   122006|       0|       360|           360| 112036|  80|   80|     1| 35|     614|    NULL|         N|      C|  SF|       1|       P|   SC|43900|293|  NULL|    FRM|       N|  N|        NULL|            NULL|        00|       NULL|       N|          NULL|         NULL|  NULL|    NULL|     NULL|            NULL|           NULL|              NULL|                      NULL|            NULL|            NULL|             NULL|                                  NULL|                NULL|                                      NULL|                                 NULL|              NULL|                       NULL|                           NULL|                      NULL|                    NULL|                        NULL|                    NULL|               NULL|                   NULL|              NULL|        NULL|        NULL|       NULL|       NULL|   NULL|       N|                                   NULL|                               NULL|                                        NULL|                                    NULL|                          7|                                  NULL|                            N|                         NULL|                   NULL|                        NULL|                       NULL|                                NULL|                          N|              NULL|            NULL|                            NULL|                                   NULL|                     NULL|               NULL|     NULL|             NULL|                     NULL|                      NULL|                      NULL|  NULL|             NULL|       NULL|                 NULL|                                                 N|     NULL|         NULL|    NULL|     NULL|   NULL|\n",
      "|   NULL|100000778481|    122006|      C|Citimortgage, Inc.|Citimortgage Asse...|           NULL|      6.0|      6.0| 92000.0|        NULL|        0.0|      360|   102006|   122006|       1|       359|           359| 112036|  80|   80|     1| 35|     614|    NULL|         N|      C|  SF|       1|       P|   SC|43900|293|  NULL|    FRM|       N|  N|        NULL|            NULL|        00|       NULL|       N|          NULL|         NULL|  NULL|    NULL|     NULL|            NULL|           NULL|              NULL|                      NULL|            NULL|            NULL|             NULL|                                  NULL|                NULL|                                      NULL|                                 NULL|              NULL|                       NULL|                           NULL|                      NULL|                    NULL|                        NULL|                    NULL|               NULL|                   NULL|              NULL|        NULL|        NULL|       NULL|       NULL|   NULL|       N|                                   NULL|                               NULL|                                        NULL|                                    NULL|                          7|                                  NULL|                            N|                         NULL|                   NULL|                        NULL|                       NULL|                                NULL|                          N|              NULL|            NULL|                            NULL|                                   NULL|                     NULL|               NULL|     NULL|             NULL|                     NULL|                      NULL|                      NULL|  NULL|             NULL|       NULL|                 NULL|                                                 N|     NULL|         NULL|    NULL|     NULL|   NULL|\n",
      "|   NULL|100000778481|     12007|      C|Citimortgage, Inc.|Citimortgage Asse...|           NULL|      6.0|      6.0| 92000.0|        NULL|        0.0|      360|   102006|   122006|       2|       358|           358| 112036|  80|   80|     1| 35|     614|    NULL|         N|      C|  SF|       1|       P|   SC|43900|293|  NULL|    FRM|       N|  N|        NULL|            NULL|        00|       NULL|       N|          NULL|         NULL|  NULL|    NULL|     NULL|            NULL|           NULL|              NULL|                      NULL|            NULL|            NULL|             NULL|                                  NULL|                NULL|                                      NULL|                                 NULL|              NULL|                       NULL|                           NULL|                      NULL|                    NULL|                        NULL|                    NULL|               NULL|                   NULL|              NULL|        NULL|        NULL|       NULL|       NULL|   NULL|       N|                                   NULL|                               NULL|                                        NULL|                                    NULL|                          7|                                  NULL|                            N|                         NULL|                   NULL|                        NULL|                       NULL|                                NULL|                          N|              NULL|            NULL|                            NULL|                                   NULL|                     NULL|               NULL|     NULL|             NULL|                     NULL|                      NULL|                      NULL|  NULL|             NULL|       NULL|                 NULL|                                                 N|     NULL|         NULL|    NULL|     NULL|   NULL|\n",
      "|   NULL|100000778481|     22007|      C|Citimortgage, Inc.|Citimortgage Asse...|           NULL|      6.0|      6.0| 92000.0|        NULL|        0.0|      360|   102006|   122006|       3|       357|           357| 112036|  80|   80|     1| 35|     614|    NULL|         N|      C|  SF|       1|       P|   SC|43900|293|  NULL|    FRM|       N|  N|        NULL|            NULL|        00|       NULL|       N|          NULL|         NULL|  NULL|    NULL|     NULL|            NULL|           NULL|              NULL|                      NULL|            NULL|            NULL|             NULL|                                  NULL|                NULL|                                      NULL|                                 NULL|              NULL|                       NULL|                           NULL|                      NULL|                    NULL|                        NULL|                    NULL|               NULL|                   NULL|              NULL|        NULL|        NULL|       NULL|       NULL|   NULL|       N|                                   NULL|                               NULL|                                        NULL|                                    NULL|                          7|                                  NULL|                            N|                         NULL|                   NULL|                        NULL|                       NULL|                                NULL|                          N|              NULL|            NULL|                            NULL|                                   NULL|                     NULL|               NULL|     NULL|             NULL|                     NULL|                      NULL|                      NULL|  NULL|             NULL|       NULL|                 NULL|                                                 N|     NULL|         NULL|    NULL|     NULL|   NULL|\n",
      "|   NULL|100000778481|     32007|      C|Citimortgage, Inc.|Citimortgage Asse...|           NULL|      6.0|      6.0| 92000.0|        NULL|        0.0|      360|   102006|   122006|       4|       356|           355| 112036|  80|   80|     1| 35|     614|    NULL|         N|      C|  SF|       1|       P|   SC|43900|293|  NULL|    FRM|       N|  N|        NULL|            NULL|        00|       NULL|       N|          NULL|         NULL|  NULL|    NULL|     NULL|            NULL|           NULL|              NULL|                      NULL|            NULL|            NULL|             NULL|                                  NULL|                NULL|                                      NULL|                                 NULL|              NULL|                       NULL|                           NULL|                      NULL|                    NULL|                        NULL|                    NULL|               NULL|                   NULL|              NULL|        NULL|        NULL|       NULL|       NULL|   NULL|       N|                                   NULL|                               NULL|                                        NULL|                                    NULL|                          7|                                  NULL|                            N|                         NULL|                   NULL|                        NULL|                       NULL|                                NULL|                          N|              NULL|            NULL|                            NULL|                                   NULL|                     NULL|               NULL|     NULL|             NULL|                     NULL|                      NULL|                      NULL|  NULL|             NULL|       NULL|                 NULL|                                                 N|     NULL|         NULL|    NULL|     NULL|   NULL|\n",
      "|   NULL|100000778481|     42007|      C|Citimortgage, Inc.|Citimortgage Asse...|           NULL|      6.0|      6.0| 92000.0|        NULL|        0.0|      360|   102006|   122006|       5|       355|           354| 112036|  80|   80|     1| 35|     614|    NULL|         N|      C|  SF|       1|       P|   SC|43900|293|  NULL|    FRM|       N|  N|        NULL|            NULL|        00|       NULL|       N|          NULL|         NULL|  NULL|    NULL|     NULL|            NULL|           NULL|              NULL|                      NULL|            NULL|            NULL|             NULL|                                  NULL|                NULL|                                      NULL|                                 NULL|              NULL|                       NULL|                           NULL|                      NULL|                    NULL|                        NULL|                    NULL|               NULL|                   NULL|              NULL|        NULL|        NULL|       NULL|       NULL|   NULL|       N|                                   NULL|                               NULL|                                        NULL|                                    NULL|                          7|                                  NULL|                            N|                         NULL|                   NULL|                        NULL|                       NULL|                                NULL|                          N|              NULL|            NULL|                            NULL|                                   NULL|                     NULL|               NULL|     NULL|             NULL|                     NULL|                      NULL|                      NULL|  NULL|             NULL|       NULL|                 NULL|                                                 N|     NULL|         NULL|    NULL|     NULL|   NULL|\n",
      "|   NULL|100000778481|     52007|      C|Citimortgage, Inc.|Citimortgage Asse...|           NULL|      6.0|      6.0| 92000.0|        NULL|   91258.62|      360|   102006|   122006|       6|       354|           352| 112036|  80|   80|     1| 35|     614|    NULL|         N|      C|  SF|       1|       P|   SC|43900|293|  NULL|    FRM|       N|  N|        NULL|            NULL|        00|       NULL|       N|          NULL|         NULL|  NULL|    NULL|     NULL|            NULL|           NULL|              NULL|                      NULL|            NULL|            NULL|             NULL|                                  NULL|                NULL|                                      NULL|                                 NULL|              NULL|                       NULL|                           NULL|                      NULL|                    NULL|                        NULL|                    NULL|               NULL|                   NULL|              NULL|        NULL|        NULL|       NULL|       NULL|   NULL|       N|                                   NULL|                               NULL|                                        NULL|                                    NULL|                          7|                                  NULL|                            N|                         NULL|                   NULL|                        NULL|                       NULL|                                NULL|                          N|              NULL|            NULL|                            NULL|                                   NULL|                     NULL|               NULL|     NULL|             NULL|                     NULL|                      NULL|                      NULL|  NULL|             NULL|       NULL|                 NULL|                                                 N|     NULL|         NULL|    NULL|     NULL|   NULL|\n",
      "|   NULL|100000778481|     62007|      C|Citimortgage, Inc.|Citimortgage Asse...|           NULL|      6.0|      6.0| 92000.0|        NULL|   91163.32|      360|   102006|   122006|       7|       353|           351| 112036|  80|   80|     1| 35|     614|    NULL|         N|      C|  SF|       1|       P|   SC|43900|293|  NULL|    FRM|       N|  N|        NULL|            NULL|        00|       NULL|       N|          NULL|         NULL|  NULL|    NULL|     NULL|            NULL|           NULL|              NULL|                      NULL|            NULL|            NULL|             NULL|                                  NULL|                NULL|                                      NULL|                                 NULL|              NULL|                       NULL|                           NULL|                      NULL|                    NULL|                        NULL|                    NULL|               NULL|                   NULL|              NULL|        NULL|        NULL|       NULL|       NULL|   NULL|       N|                                   NULL|                               NULL|                                        NULL|                                    NULL|                          7|                                  NULL|                            N|                         NULL|                   NULL|                        NULL|                       NULL|                                NULL|                          N|              NULL|            NULL|                            NULL|                                   NULL|                     NULL|               NULL|     NULL|             NULL|                     NULL|                      NULL|                      NULL|  NULL|             NULL|       NULL|                 NULL|                                                 N|     NULL|         NULL|    NULL|     NULL|   NULL|\n",
      "|   NULL|100000778481|     72007|      C|Citimortgage, Inc.|               Other|           NULL|      6.0|      6.0| 92000.0|        NULL|   91067.55|      360|   102006|   122006|       8|       352|           350| 112036|  80|   80|     1| 35|     614|    NULL|         N|      C|  SF|       1|       P|   SC|43900|293|  NULL|    FRM|       N|  N|        NULL|            NULL|        00|       NULL|       N|          NULL|         NULL|  NULL|    NULL|     NULL|            NULL|           NULL|              NULL|                      NULL|            NULL|            NULL|             NULL|                                  NULL|                NULL|                                      NULL|                                 NULL|              NULL|                       NULL|                           NULL|                      NULL|                    NULL|                        NULL|                    NULL|               NULL|                   NULL|              NULL|        NULL|        NULL|       NULL|       NULL|   NULL|       N|                                   NULL|                               NULL|                                        NULL|                                    NULL|                          7|                                  NULL|                            N|                         NULL|                   NULL|                        NULL|                       NULL|                                NULL|                          N|              NULL|            NULL|                            NULL|                                   NULL|                     NULL|               NULL|     NULL|             NULL|                     NULL|                      NULL|                      NULL|  NULL|             NULL|       NULL|                 NULL|                                                 N|     NULL|         NULL|    NULL|     NULL|   NULL|\n",
      "|   NULL|100000778481|     82007|      C|Citimortgage, Inc.|  Citimortgage, Inc.|           NULL|      6.0|      6.0| 92000.0|        NULL|    90971.3|      360|   102006|   122006|       9|       351|           349| 112036|  80|   80|     1| 35|     614|    NULL|         N|      C|  SF|       1|       P|   SC|43900|293|  NULL|    FRM|       N|  N|        NULL|            NULL|        00|       NULL|       N|          NULL|         NULL|  NULL|    NULL|     NULL|            NULL|           NULL|              NULL|                      NULL|            NULL|            NULL|             NULL|                                  NULL|                NULL|                                      NULL|                                 NULL|              NULL|                       NULL|                           NULL|                      NULL|                    NULL|                        NULL|                    NULL|               NULL|                   NULL|              NULL|        NULL|        NULL|       NULL|       NULL|   NULL|       N|                                   NULL|                               NULL|                                        NULL|                                    NULL|                          7|                                  NULL|                            N|                         NULL|                   NULL|                        NULL|                       NULL|                                NULL|                          N|              NULL|            NULL|                            NULL|                                   NULL|                     NULL|               NULL|     NULL|             NULL|                     NULL|                      NULL|                      NULL|  NULL|             NULL|       NULL|                 NULL|                                                 N|     NULL|         NULL|    NULL|     NULL|   NULL|\n",
      "+-------+------------+----------+-------+------------------+--------------------+---------------+---------+---------+--------+------------+-----------+---------+---------+---------+--------+----------+--------------+-------+----+-----+------+---+--------+--------+----------+-------+----+--------+--------+-----+-----+---+------+-------+--------+---+------------+----------------+----------+-----------+--------+--------------+-------------+------+--------+---------+----------------+---------------+------------------+--------------------------+----------------+----------------+-----------------+--------------------------------------+--------------------+------------------------------------------+-------------------------------------+------------------+---------------------------+-------------------------------+--------------------------+------------------------+----------------------------+------------------------+-------------------+-----------------------+------------------+------------+------------+-----------+-----------+-------+--------+---------------------------------------+-----------------------------------+--------------------------------------------+----------------------------------------+---------------------------+--------------------------------------+-----------------------------+-----------------------------+-----------------------+----------------------------+---------------------------+------------------------------------+---------------------------+------------------+----------------+--------------------------------+---------------------------------------+-------------------------+-------------------+---------+-----------------+-------------------------+--------------------------+--------------------------+------+-----------------+-----------+---------------------+--------------------------------------------------+---------+-------------+--------+---------+-------+\n",
      "\n"
     ]
    }
   ],
   "source": [
    "# Import the complete dataset\n",
    "csv_path = \"C:\\\\projects\\\\risk_datasets\\\\final_result.csv\"\n",
    "data = spark.read.csv(csv_path, sep='|', header=True, inferSchema=True)\n",
    "\n",
    "# Clean the dataset\n",
    "# data[\"ACT_PERIOD_V2\"] = data[\"ACT_PERIOD\"].astype(str).apply(custom_date_parser)\n",
    "\n",
    "data.limit(10).show()"
   ]
  },
  {
   "cell_type": "markdown",
   "id": "9be5900d-5f65-442e-a9fe-20dfdf5fbd03",
   "metadata": {},
   "source": [
    "#### B. Append default flag\n",
    "\n",
    "Zero_Bal_Code values:\n",
    "- 01 = Prepaid or Matured\n",
    "- 02 = Third Party Sale\n",
    "- 03 = Short Sale06 = Repurchased\n",
    "- 09 = Deed-in-Lieu; REO Disposition\n",
    "- 15 = Non Performing Note Sale\n",
    "- 16 = Reperforming Note Sale\n",
    "- 96 = Removal (non-credit event)Applies to all CAS deals prior to and including 2015-C03:\n",
    "- 97 = Delinquency (credit event due to D180)\n",
    "- 98 = Other Credit Event"
   ]
  },
  {
   "cell_type": "code",
   "execution_count": null,
   "id": "7067a9d4-e3b6-49c4-83a9-ddb29fa5f859",
   "metadata": {},
   "outputs": [],
   "source": [
    "# Create a default flag\n",
    "data['Default']=data.apply(lambda row : 1 \n",
    "     if row['Zero_Bal_Code'] in ['02','03','09','15'] and str(row['DISP_DT']) != 'NaT' \n",
    "     else (0 if row['Zero_Bal_Code'] in ['01','06','16'] else np.nan),axis=1)\n",
    "data['Default'].value_counts(dropna=False)"
   ]
  },
  {
   "cell_type": "code",
   "execution_count": null,
   "id": "17fd78fe-5135-4220-82fe-a0e461266808",
   "metadata": {},
   "outputs": [],
   "source": [
    "# Add a new boolean column based on the conditions\n",
    "data = data.withColumn(\"is_first_credit_event\",\n",
    "                       (col(\"Zero.Bal.Code\").isin([\"03\", \"09\"])) | \n",
    "                       ((col(\"Delq.Status\") < 999) & (col(\"Delq.Status\") >= 6)))"
   ]
  },
  {
   "cell_type": "code",
   "execution_count": null,
   "id": "1a4c0c17-e3b8-4611-9c66-331a78167825",
   "metadata": {},
   "outputs": [],
   "source": [
    "# Select relevant columns and add new ones\n",
    "data = data.withColumn(\"FCE_DTE\", col(\"Monthly.Rpt.Prd\")) \\\n",
    "           .withColumn(\"FCE_UPB\", col(\"LAST_UPB\")) \\\n",
    "           .withColumn(\"SPDelq1\", col(\"Delq.Status\")) \\\n",
    "           .withColumn(\"CountFC\", col(\"Count\"))\n",
    "\n",
    "# Define window specification\n",
    "window_spec = Window.partitionBy(\"LOAN_ID\").orderBy(\"Monthly.Rpt.Prd\")\n",
    "\n",
    "# Select the first entry for each LOAN_ID\n",
    "first_ce = data.withColumn(\"row_num\", row_number().over(window_spec))"
   ]
  },
  {
   "cell_type": "markdown",
   "id": "66245259-f8cd-46ab-a778-f30101c6da9d",
   "metadata": {},
   "source": [
    "#### C. Review the final dataset"
   ]
  },
  {
   "cell_type": "code",
   "execution_count": null,
   "id": "e07afb12-e1bf-4654-a52e-085f7fc854dd",
   "metadata": {},
   "outputs": [],
   "source": [
    "data['Zero_Bal_Code'].value_counts(dropna=False)"
   ]
  },
  {
   "cell_type": "code",
   "execution_count": null,
   "id": "36c3fb71-82c0-4a19-af9f-f9cff044701b",
   "metadata": {},
   "outputs": [],
   "source": [
    "data['Default'].value_counts(dropna=False)"
   ]
  }
 ],
 "metadata": {
  "kernelspec": {
   "display_name": "Python 3 (ipykernel)",
   "language": "python",
   "name": "python3"
  },
  "language_info": {
   "codemirror_mode": {
    "name": "ipython",
    "version": 3
   },
   "file_extension": ".py",
   "mimetype": "text/x-python",
   "name": "python",
   "nbconvert_exporter": "python",
   "pygments_lexer": "ipython3",
   "version": "3.11.9"
  }
 },
 "nbformat": 4,
 "nbformat_minor": 5
}
